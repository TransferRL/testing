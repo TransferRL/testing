{
 "cells": [
  {
   "cell_type": "code",
   "execution_count": 1,
   "metadata": {
    "collapsed": false
   },
   "outputs": [],
   "source": [
    "import sys\n",
    "import os\n",
    "import numpy as np\n",
    "\n",
    "tree = '/users/dangoldberg/desktop/code/tlrl/'\n",
    "sys.path.append(tree+'Deep-Learning-TensorFlow/')\n",
    "\n",
    "from yadlt.models.boltzmann import rbm\n"
   ]
  },
  {
   "cell_type": "code",
   "execution_count": 13,
   "metadata": {
    "collapsed": false
   },
   "outputs": [],
   "source": [
    "RBM = rbm.RBM(\n",
    "            num_hidden = 36, \n",
    "            visible_unit_type='bin',\n",
    "            name='rbm', \n",
    "            loss_func='mse', \n",
    "            learning_rate=0.05,\n",
    "            regcoef=5e-4, \n",
    "            regtype='none', \n",
    "            gibbs_sampling_steps=2,\n",
    "            batch_size=32, \n",
    "            num_epochs=1000, \n",
    "            stddev=0.1\n",
    "            )\n",
    "\n"
   ]
  },
  {
   "cell_type": "code",
   "execution_count": 3,
   "metadata": {
    "collapsed": false
   },
   "outputs": [],
   "source": [
    "from yadlt import utils"
   ]
  },
  {
   "cell_type": "code",
   "execution_count": 19,
   "metadata": {
    "collapsed": false
   },
   "outputs": [],
   "source": [
    "N = 20000\n",
    "num_visible = 36\n",
    "\n",
    "vs = []\n",
    "\n",
    "for n in range(N):\n",
    "    ones = np.random.binomial(num_visible,0.5)\n",
    "    v = np.random.permutation(np.concatenate([np.ones(ones),np.zeros(num_visible-ones)]))\n",
    "    \n",
    "    vs.append(v)\n",
    "\n",
    "vs = np.stack(vs)"
   ]
  },
  {
   "cell_type": "code",
   "execution_count": 20,
   "metadata": {
    "collapsed": false
   },
   "outputs": [],
   "source": [
    "vs_train = vs[:N-3000]\n",
    "vs_test = vs[N-3000:]"
   ]
  },
  {
   "cell_type": "code",
   "execution_count": null,
   "metadata": {
    "collapsed": false
   },
   "outputs": [],
   "source": []
  },
  {
   "cell_type": "code",
   "execution_count": null,
   "metadata": {
    "collapsed": false
   },
   "outputs": [
    {
     "name": "stdout",
     "output_type": "stream",
     "text": [
      "Tensorboard logs dir for this run is /Users/dangoldberg/.yadlt/logs/run10\n"
     ]
    },
    {
     "name": "stderr",
     "output_type": "stream",
     "text": [
      " 14%|█▍        | 145/1000 [01:36<08:51,  1.61it/s]"
     ]
    }
   ],
   "source": [
    "RBM.fit(vs_train,vs_test)"
   ]
  },
  {
   "cell_type": "code",
   "execution_count": 18,
   "metadata": {
    "collapsed": false
   },
   "outputs": [
    {
     "name": "stderr",
     "output_type": "stream",
     "text": [
      "//anaconda/lib/python3.5/site-packages/matplotlib/axes/_axes.py:6087: UserWarning: 2D hist input should be nsamples x nvariables;\n",
      " this looks transposed (shape is 36 x 256)\n",
      "  '(shape is %d x %d)' % inp.shape[::-1])\n"
     ]
    },
    {
     "data": {
      "image/png": "[encoded data removed]",
      "text/plain": [
       "<matplotlib.figure.Figure at 0x1177c29b0>"
      ]
     },
     "metadata": {},
     "output_type": "display_data"
    }
   ],
   "source": [
    "from matplotlib import pyplot as plt\n",
    "\n",
    "plt.hist(RBM.get_parameters()['W'],bins=20)\n",
    "plt.show()"
   ]
  },
  {
   "cell_type": "code",
   "execution_count": 69,
   "metadata": {
    "collapsed": false
   },
   "outputs": [
    {
     "name": "stdout",
     "output_type": "stream",
     "text": [
      "Successfully downloaded train-images-idx3-ubyte.gz 9912422 bytes.\n",
      "Extracting MNIST_data/train-images-idx3-ubyte.gz\n",
      "Successfully downloaded train-labels-idx1-ubyte.gz 28881 bytes.\n",
      "Extracting MNIST_data/train-labels-idx1-ubyte.gz\n",
      "Successfully downloaded t10k-images-idx3-ubyte.gz 1648877 bytes.\n",
      "Extracting MNIST_data/t10k-images-idx3-ubyte.gz\n",
      "Successfully downloaded t10k-labels-idx1-ubyte.gz 4542 bytes.\n",
      "Extracting MNIST_data/t10k-labels-idx1-ubyte.gz\n",
      "Start training...\n",
      "Tensorboard logs dir for this run is /Users/dangoldberg/.yadlt/logs/run3\n"
     ]
    },
    {
     "name": "stderr",
     "output_type": "stream",
     "text": [
      "\n",
      "  0%|          | 0/10 [00:00<?, ?it/s]\u001b[A\n",
      "100%|██████████| 10/10 [01:39<00:00,  9.68s/it]\n"
     ]
    }
   ],
   "source": [
    "%run /Users/dangoldberg/desktop/code/tlrl/tlrl/Deep-Learning-TensorFlow/cmd_line/boltzmann/run_rbm.py"
   ]
  },
  {
   "cell_type": "code",
   "execution_count": 156,
   "metadata": {
    "collapsed": false
   },
   "outputs": [
    {
     "data": {
      "text/plain": [
       "array([[ 0.,  1.,  0.,  0.,  0.,  0.,  0.,  0.,  0.,  0.,  1.,  0.,  0.,\n",
       "         0.,  0.,  0.,  1.,  0.,  0.,  0.,  0.,  0.,  0.,  1.,  0.,  0.,\n",
       "         0.,  0.,  0.,  0.,  0.,  0.,  0.,  0.,  0.,  0.]], dtype=float32)"
      ]
     },
     "execution_count": 156,
     "metadata": {},
     "output_type": "execute_result"
    }
   ],
   "source": [
    "def generate_v(num_visible,theta=0.5):\n",
    "\n",
    "    ones = np.random.binomial(num_visible,theta)\n",
    "    v = np.random.permutation(np.concatenate([np.ones(ones),np.zeros(num_visible-ones)]))\n",
    "\n",
    "    return v\n",
    "\n",
    "v = generate_v(num_visible,0.2)\n",
    "v = v.astype(np.float32).reshape(1,-1)\n",
    "v"
   ]
  },
  {
   "cell_type": "code",
   "execution_count": null,
   "metadata": {
    "collapsed": false
   },
   "outputs": [],
   "source": []
  },
  {
   "cell_type": "code",
   "execution_count": 151,
   "metadata": {
    "collapsed": false
   },
   "outputs": [
    {
     "data": {
      "text/plain": [
       "(<tf.Tensor 'Sigmoid_14:0' shape=(1, 36) dtype=float32>,\n",
       " <tf.Tensor 'Relu_9:0' shape=(?, 36) dtype=float32>,\n",
       " <tf.Tensor 'Sigmoid_15:0' shape=(1, 36) dtype=float32>,\n",
       " <tf.Tensor 'Sigmoid_16:0' shape=(1, 36) dtype=float32>,\n",
       " <tf.Tensor 'Relu_10:0' shape=(?, 36) dtype=float32>)"
      ]
     },
     "execution_count": 151,
     "metadata": {},
     "output_type": "execute_result"
    }
   ],
   "source": [
    "v"
   ]
  },
  {
   "cell_type": "code",
   "execution_count": null,
   "metadata": {
    "collapsed": true
   },
   "outputs": [],
   "source": []
  }
 ],
 "metadata": {
  "anaconda-cloud": {},
  "kernelspec": {
   "display_name": "Python [conda root]",
   "language": "python",
   "name": "conda-root-py"
  },
  "language_info": {
   "codemirror_mode": {
    "name": "ipython",
    "version": 3
   },
   "file_extension": ".py",
   "mimetype": "text/x-python",
   "name": "python",
   "nbconvert_exporter": "python",
   "pygments_lexer": "ipython3",
   "version": "3.5.2"
  }
 },
 "nbformat": 4,
 "nbformat_minor": 1
}
