{
 "cells": [
  {
   "cell_type": "code",
   "execution_count": 1,
   "metadata": {
    "collapsed": false
   },
   "outputs": [],
   "source": [
    "import rbm_3way as rbm3\n",
    "import numpy as np\n",
    "import tensorflow as tf\n",
    "from tqdm import tqdm\n",
    "from matplotlib import pyplot as plt"
   ]
  },
  {
   "cell_type": "markdown",
   "metadata": {},
   "source": [
    "# Testing _prop_helper() and get_delta_products() against brute force methods"
   ]
  },
  {
   "cell_type": "markdown",
   "metadata": {},
   "source": [
    "### Generate data: v1s, v2s, w"
   ]
  },
  {
   "cell_type": "code",
   "execution_count": 15,
   "metadata": {
    "collapsed": false
   },
   "outputs": [
    {
     "data": {
      "text/plain": [
       "array([  1.34515345,   0.89744043,   4.34873056,   0.88077295,\n",
       "         3.78757882,   6.09980869,   4.91639614,   8.17991257,\n",
       "         7.83725691,   8.17164326,  10.96779919,  10.7772789 ,\n",
       "        11.77518749,  13.30566692], dtype=float32)"
      ]
     },
     "execution_count": 15,
     "metadata": {},
     "output_type": "execute_result"
    }
   ],
   "source": [
    "def generate_v(n_v, mu_v, sig_v):\n",
    "    v = np.random.normal(mu_v,sig_v,n_v)\n",
    "    return v\n",
    "\n",
    "\n",
    "n_v1 = 10\n",
    "n_h = 25\n",
    "n_v2 = 14\n",
    "n_samples = 50\n",
    "\n",
    "v1s = []\n",
    "v2s = []\n",
    "\n",
    "for n in range(n_samples):\n",
    "    v1 = generate_v(n_v1,np.arange(n_v1),np.ones(n_v1))\n",
    "    v1 = v1.astype(np.float32)\n",
    "    v1s.append(v1)\n",
    "    \n",
    "    v2 = generate_v(n_v2,np.arange(n_v2),np.ones(n_v2))\n",
    "    v2 = v2.astype(np.float32)\n",
    "    v2s.append(v2)\n",
    "    \n",
    "v1s = np.stack(v1s)\n",
    "v2s = np.stack(v2s)\n",
    "\n",
    "w = np.random.randn(n_v1*n_v2*n_h).reshape(n_v1,n_h,n_v2)\n",
    "\n",
    "v2s[0].T"
   ]
  },
  {
   "cell_type": "code",
   "execution_count": 106,
   "metadata": {
    "collapsed": false
   },
   "outputs": [
    {
     "name": "stdout",
     "output_type": "stream",
     "text": [
      "(10, 25, 14)\n",
      "(50, 10)\n",
      "(50, 14)\n"
     ]
    }
   ],
   "source": [
    "print(w.shape)\n",
    "print(v1s.shape)\n",
    "print(v2s.shape)"
   ]
  },
  {
   "cell_type": "markdown",
   "metadata": {},
   "source": [
    "### _prop_helper()"
   ]
  },
  {
   "cell_type": "code",
   "execution_count": 107,
   "metadata": {
    "collapsed": false
   },
   "outputs": [],
   "source": [
    "def _prop_helper(a, b, perm):\n",
    "    \"\"\" perm specifies matrix orientation\"\"\"\n",
    "    wt = tf.transpose(w,perm=perm)\n",
    "    wtv = tf.einsum('ijk,kl->ijl',wt,tf.transpose(a))\n",
    "    wtvt = tf.transpose(wtv,perm=[2,0,1])\n",
    "    wtvtv = tf.matmul(wtvt,tf.expand_dims(b,axis=-1))\n",
    "    wtvtvs = tf.reduce_sum(wtvtv,axis=-1)\n",
    "    return wtvtvs"
   ]
  },
  {
   "cell_type": "code",
   "execution_count": 108,
   "metadata": {
    "collapsed": false
   },
   "outputs": [],
   "source": [
    "with tf.Session() as s:\n",
    "    res = s.run(_prop_helper(v1s.astype(float), v2s.astype(float), [1, 2, 0]))"
   ]
  },
  {
   "cell_type": "code",
   "execution_count": 109,
   "metadata": {
    "collapsed": false
   },
   "outputs": [
    {
     "data": {
      "text/plain": [
       "(50, 25)"
      ]
     },
     "execution_count": 109,
     "metadata": {},
     "output_type": "execute_result"
    }
   ],
   "source": [
    "res.shape"
   ]
  },
  {
   "cell_type": "code",
   "execution_count": 110,
   "metadata": {
    "collapsed": true
   },
   "outputs": [],
   "source": [
    "def bruteforce_batch(v1,v2,n_h,w):\n",
    "    \n",
    "    assert v1.shape[0] == v2.shape[0]\n",
    "\n",
    "    I = v1.shape[1]\n",
    "    J = n_h\n",
    "    K = v2.shape[1]\n",
    "    S = v1.shape[0]\n",
    "\n",
    "    h = np.zeros(S*n_h).reshape(S,-1)\n",
    "\n",
    "    for s in range(S):\n",
    "        for i in range(I):\n",
    "            for j in range(J):\n",
    "                for k in range(K):\n",
    "                    h[s][j] = h[s][j] + v1[s][i]*v2[s][k]*w[i,j,k]\n",
    "                \n",
    "    return h"
   ]
  },
  {
   "cell_type": "code",
   "execution_count": 111,
   "metadata": {
    "collapsed": false
   },
   "outputs": [
    {
     "data": {
      "text/plain": [
       "(50, 25)"
      ]
     },
     "execution_count": 111,
     "metadata": {},
     "output_type": "execute_result"
    }
   ],
   "source": [
    "h = bruteforce_batch(v1s,v2s,n_h,w)\n",
    "h.shape"
   ]
  },
  {
   "cell_type": "code",
   "execution_count": 112,
   "metadata": {
    "collapsed": false
   },
   "outputs": [
    {
     "data": {
      "text/plain": [
       "array([[  2.16807317e-11,   2.62532460e-11,   1.96194893e-11, ...,\n",
       "          1.01917348e-12,   1.66796581e-10,   3.86202758e-11],\n",
       "       [  5.25824744e-12,   3.01622583e-10,   3.40159917e-11, ...,\n",
       "          1.34789913e-10,   2.89088034e-11,   9.49883306e-11],\n",
       "       [  2.86375531e-12,   2.06009111e-10,   7.78229076e-10, ...,\n",
       "          1.43844926e-10,   3.60614891e-14,   7.66360594e-11],\n",
       "       ..., \n",
       "       [  8.80784309e-11,   1.88007778e-11,   2.33635678e-10, ...,\n",
       "          1.74253981e-10,   3.01229329e-10,   3.97669275e-10],\n",
       "       [  4.91109806e-11,   6.19856911e-11,   5.98837412e-11, ...,\n",
       "          1.27563433e-11,   7.72310311e-13,   3.95310983e-10],\n",
       "       [  8.32379837e-11,   8.39775868e-11,   1.01015943e-10, ...,\n",
       "          3.08506657e-10,   1.94935996e-13,   4.90491751e-12]])"
      ]
     },
     "execution_count": 112,
     "metadata": {},
     "output_type": "execute_result"
    }
   ],
   "source": [
    "(h-res)**2"
   ]
  },
  {
   "cell_type": "markdown",
   "metadata": {},
   "source": [
    "We see that there are some numerical differences between the two methods, but that they agree to significant levels. I'm not investigating why at this point, or which one is more accurate; my first assumption would be that the vectorized operation would be more accurate due to looping over intermediate sums in the brute force method, which would be another advantage of vectorization. Success!"
   ]
  },
  {
   "cell_type": "markdown",
   "metadata": {},
   "source": [
    "### get_delta_products()"
   ]
  },
  {
   "cell_type": "code",
   "execution_count": 113,
   "metadata": {
    "collapsed": true
   },
   "outputs": [],
   "source": [
    "def get_delta_products(v1,h,v2):\n",
    "    v1 = tf.expand_dims(v1,axis=-1)\n",
    "    h = tf.expand_dims(h,axis=-1)\n",
    "    v2 = tf.expand_dims(v2,axis=-1)\n",
    "    prod = tf.matmul(v1,tf.transpose(h, perm=[0,2,1]))\n",
    "    prod = tf.transpose(tf.expand_dims(prod,-1), perm=[1,0,2,3])\n",
    "    prod = tf.einsum('ijkl,jmn->ijkn',prod,tf.transpose(v2,perm=[0,2,1]))\n",
    "    prod = tf.transpose(prod,perm=[1,0,2,3])\n",
    "    return tf.reduce_mean(prod,axis=0)"
   ]
  },
  {
   "cell_type": "code",
   "execution_count": 114,
   "metadata": {
    "collapsed": true
   },
   "outputs": [],
   "source": [
    "with tf.Session() as s:\n",
    "    res = s.run(get_delta_products(v1s.astype(float), h.astype(float), v2s.astype(float)))"
   ]
  },
  {
   "cell_type": "code",
   "execution_count": 115,
   "metadata": {
    "collapsed": false
   },
   "outputs": [
    {
     "name": "stdout",
     "output_type": "stream",
     "text": [
      "(10, 25, 14)\n"
     ]
    }
   ],
   "source": [
    "def bruteforce_delta(v1,v2,h):\n",
    "    \n",
    "    assert v1s.shape[0] == v2s.shape[0] == h.shape[0]\n",
    "    \n",
    "    I = v1.shape[1]\n",
    "    J = h.shape[1]\n",
    "    K = v2.shape[1]\n",
    "    S = v1.shape[0]\n",
    "    \n",
    "    d = np.zeros(S*I*J*K).reshape(S,I,J,K)\n",
    "    \n",
    "    for s in range(S):\n",
    "        for i in range(I):\n",
    "            for j in range(J):\n",
    "                for k in range(K):\n",
    "                    d[s][i][j][k] = v1[s][i]*h[s][j]*v2[s][k]\n",
    "                    \n",
    "    d = np.mean(d,0)\n",
    "    print(d.shape)\n",
    "    \n",
    "    return d\n",
    "    \n",
    "\n",
    "bi = bruteforce_delta(v1s,v2s,h)"
   ]
  },
  {
   "cell_type": "code",
   "execution_count": 116,
   "metadata": {
    "collapsed": false
   },
   "outputs": [
    {
     "data": {
      "text/plain": [
       "array([[[ 0.,  0.,  0., ...,  0.,  0.,  0.],\n",
       "        [ 0.,  0.,  0., ...,  0.,  0.,  0.],\n",
       "        [ 0.,  0.,  0., ...,  0.,  0.,  0.],\n",
       "        ..., \n",
       "        [ 0.,  0.,  0., ...,  0.,  0.,  0.],\n",
       "        [ 0.,  0.,  0., ...,  0.,  0.,  0.],\n",
       "        [ 0.,  0.,  0., ...,  0.,  0.,  0.]],\n",
       "\n",
       "       [[ 0.,  0.,  0., ...,  0.,  0.,  0.],\n",
       "        [ 0.,  0.,  0., ...,  0.,  0.,  0.],\n",
       "        [ 0.,  0.,  0., ...,  0.,  0.,  0.],\n",
       "        ..., \n",
       "        [ 0.,  0.,  0., ...,  0.,  0.,  0.],\n",
       "        [ 0.,  0.,  0., ...,  0.,  0.,  0.],\n",
       "        [ 0.,  0.,  0., ...,  0.,  0.,  0.]],\n",
       "\n",
       "       [[ 0.,  0.,  0., ...,  0.,  0.,  0.],\n",
       "        [ 0.,  0.,  0., ...,  0.,  0.,  0.],\n",
       "        [ 0.,  0.,  0., ...,  0.,  0.,  0.],\n",
       "        ..., \n",
       "        [ 0.,  0.,  0., ...,  0.,  0.,  0.],\n",
       "        [ 0.,  0.,  0., ...,  0.,  0.,  0.],\n",
       "        [ 0.,  0.,  0., ...,  0.,  0.,  0.]],\n",
       "\n",
       "       ..., \n",
       "       [[ 0.,  0.,  0., ...,  0.,  0.,  0.],\n",
       "        [ 0.,  0.,  0., ...,  0.,  0.,  0.],\n",
       "        [ 0.,  0.,  0., ...,  0.,  0.,  0.],\n",
       "        ..., \n",
       "        [ 0.,  0.,  0., ...,  0.,  0.,  0.],\n",
       "        [ 0.,  0.,  0., ...,  0.,  0.,  0.],\n",
       "        [ 0.,  0.,  0., ...,  0.,  0.,  0.]],\n",
       "\n",
       "       [[ 0.,  0.,  0., ...,  0.,  0.,  0.],\n",
       "        [ 0.,  0.,  0., ...,  0.,  0.,  0.],\n",
       "        [ 0.,  0.,  0., ...,  0.,  0.,  0.],\n",
       "        ..., \n",
       "        [ 0.,  0.,  0., ...,  0.,  0.,  0.],\n",
       "        [ 0.,  0.,  0., ...,  0.,  0.,  0.],\n",
       "        [ 0.,  0.,  0., ...,  0.,  0.,  0.]],\n",
       "\n",
       "       [[ 0.,  0.,  0., ...,  0.,  0.,  0.],\n",
       "        [ 0.,  0.,  0., ...,  0.,  0.,  0.],\n",
       "        [ 0.,  0.,  0., ...,  0.,  0.,  0.],\n",
       "        ..., \n",
       "        [ 0.,  0.,  0., ...,  0.,  0.,  0.],\n",
       "        [ 0.,  0.,  0., ...,  0.,  0.,  0.],\n",
       "        [ 0.,  0.,  0., ...,  0.,  0.,  0.]]])"
      ]
     },
     "execution_count": 116,
     "metadata": {},
     "output_type": "execute_result"
    }
   ],
   "source": [
    "(bi - res)**2"
   ]
  },
  {
   "cell_type": "markdown",
   "metadata": {},
   "source": [
    "In this case we see the vectorized op and brute force method agree completely. Success!"
   ]
  },
  {
   "cell_type": "markdown",
   "metadata": {},
   "source": [
    "# Testing the RBM Class"
   ]
  },
  {
   "cell_type": "code",
   "execution_count": 2,
   "metadata": {
    "collapsed": false
   },
   "outputs": [
    {
     "data": {
      "text/plain": [
       "array([  0.39215791,   1.3268801 ,   2.64564061,   3.05266237,\n",
       "         4.17035675,   5.73675299,   3.59056616,   6.08932686,\n",
       "         9.37555599,   9.11422157,  12.39131641,  10.41462803,\n",
       "        12.14718437,  12.8730402 ], dtype=float32)"
      ]
     },
     "execution_count": 2,
     "metadata": {},
     "output_type": "execute_result"
    }
   ],
   "source": [
    "def generate_v(n_v, mu_v, sig_v):\n",
    "    v = np.random.normal(mu_v,sig_v,n_v)\n",
    "    return v\n",
    "\n",
    "\n",
    "n_v1 = 10\n",
    "n_v2 = 14\n",
    "n_h = 25\n",
    "n_samples = 50\n",
    "\n",
    "v1s = []\n",
    "v2s = []\n",
    "\n",
    "for n in range(n_samples):\n",
    "    v1 = generate_v(n_v1,np.arange(n_v1),np.ones(n_v1))\n",
    "    v1 = v1.astype(np.float32)\n",
    "    v1s.append(v1)\n",
    "    \n",
    "    v2 = generate_v(n_v2,np.arange(n_v2),np.ones(n_v2))\n",
    "    v2 = v2.astype(np.float32)\n",
    "    v2s.append(v2)\n",
    "    \n",
    "v1s = np.stack(v1s)\n",
    "v2s = np.stack(v2s)\n",
    "\n",
    "v2s[0].T"
   ]
  },
  {
   "cell_type": "code",
   "execution_count": 5,
   "metadata": {
    "collapsed": false
   },
   "outputs": [
    {
     "name": "stderr",
     "output_type": "stream",
     "text": [
      "\n",
      "  0%|          | 0/100 [00:00<?, ?it/s]\u001b[A\n",
      "squared reconstruction error: 86821933416448.0:   1%|          | 1/100 [00:04<07:51,  4.77s/it]\u001b[A\n",
      "squared reconstruction error: 71219038650368.0: 100%|██████████| 100/100 [11:39<00:00,  9.56s/it]\n"
     ]
    },
    {
     "data": {
      "image/png": "[encoded data removed]",
      "text/plain": [
       "<matplotlib.figure.Figure at 0x1e1423eb8>"
      ]
     },
     "metadata": {},
     "output_type": "display_data"
    }
   ],
   "source": [
    "with tf.Session() as sess:\n",
    "    RBM = rbm3.RBM(name='rbm', v1_size=n_v1, h_size=n_h, v2_size=n_v2)\n",
    "    init = tf.global_variables_initializer()\n",
    "    sess.run(init)\n",
    "    costs = []\n",
    "    pbar = tqdm(range(100))\n",
    "    for i in pbar:\n",
    "        w = sess.run(RBM.pcd_k(v1s, v2s, learning_rate=0.001, k=1, persistant=False))\n",
    "        cost, _, _ = sess.run(RBM.reconstruction_error(v1s,v2s))\n",
    "        costs.append(cost)\n",
    "        pbar.set_description('squared reconstruction error: {}'.format(cost))\n",
    "        if i % 20 == 0:\n",
    "            #plt.hist(w[0],bins=20)\n",
    "            #plt.title(i)\n",
    "            #plt.show()\n",
    "            pass\n",
    "    plt.plot(range(len(costs)),costs)\n",
    "    plt.show()"
   ]
  },
  {
   "cell_type": "code",
   "execution_count": 4,
   "metadata": {
    "collapsed": false
   },
   "outputs": [
    {
     "data": {
      "image/png": "[encoded data removed]",
      "text/plain": [
       "<matplotlib.figure.Figure at 0x17bdc86d8>"
      ]
     },
     "metadata": {},
     "output_type": "display_data"
    }
   ],
   "source": [
    "plt.plot(range(len(costs)),costs)\n",
    "plt.show()"
   ]
  },
  {
   "cell_type": "markdown",
   "metadata": {
    "collapsed": true
   },
   "source": [
    "## training with faster version and cartesian product of sample sets"
   ]
  },
  {
   "cell_type": "code",
   "execution_count": 188,
   "metadata": {
    "collapsed": false,
    "scrolled": true
   },
   "outputs": [
    {
     "name": "stderr",
     "output_type": "stream",
     "text": [
      "\n",
      "  0%|          | 0/500 [00:00<?, ?it/s]\u001b[A\n",
      "  0%|          | 1/500 [00:01<10:29,  1.26s/it]\u001b[A\n",
      "  0%|          | 2/500 [00:02<10:08,  1.22s/it]\u001b[A\n",
      "  1%|          | 3/500 [00:03<09:52,  1.19s/it]\u001b[A\n",
      "  1%|          | 4/500 [00:04<10:08,  1.23s/it]\u001b[A\n",
      "  1%|          | 5/500 [00:06<10:05,  1.22s/it]\u001b[A\n",
      "  1%|          | 6/500 [00:07<09:45,  1.18s/it]\u001b[A\n",
      "  1%|▏         | 7/500 [00:08<09:40,  1.18s/it]\u001b[A\n",
      "  2%|▏         | 8/500 [00:09<09:59,  1.22s/it]\u001b[A\n",
      "  2%|▏         | 9/500 [00:10<09:42,  1.19s/it]\u001b[A\n",
      "  2%|▏         | 10/500 [00:11<09:24,  1.15s/it]\u001b[A\n",
      "  2%|▏         | 11/500 [00:12<09:13,  1.13s/it]\u001b[A\n",
      "  2%|▏         | 12/500 [00:13<09:06,  1.12s/it]\u001b[A\n",
      "  3%|▎         | 13/500 [00:15<09:29,  1.17s/it]\u001b[A\n",
      "  3%|▎         | 14/500 [00:16<09:35,  1.18s/it]\u001b[A\n",
      "  3%|▎         | 15/500 [00:17<09:25,  1.17s/it]\u001b[A\n",
      "  3%|▎         | 16/500 [00:18<09:22,  1.16s/it]\u001b[A\n",
      "  3%|▎         | 17/500 [00:19<09:29,  1.18s/it]\u001b[A\n",
      "  4%|▎         | 18/500 [00:21<09:16,  1.15s/it]\u001b[A\n",
      "  4%|▍         | 19/500 [00:22<09:03,  1.13s/it]\u001b[A\n",
      "  4%|▍         | 20/500 [00:23<08:58,  1.12s/it]\u001b[A\n",
      "  4%|▍         | 21/500 [00:24<08:51,  1.11s/it]\u001b[A\n",
      "  4%|▍         | 22/500 [00:25<08:51,  1.11s/it]\u001b[A\n",
      "  5%|▍         | 23/500 [00:26<08:46,  1.10s/it]\u001b[A\n",
      "  5%|▍         | 24/500 [00:27<08:46,  1.11s/it]\u001b[A\n",
      "  5%|▌         | 25/500 [00:28<09:17,  1.17s/it]\u001b[A\n",
      "  5%|▌         | 26/500 [00:30<09:15,  1.17s/it]\u001b[A\n",
      "  5%|▌         | 27/500 [00:31<09:28,  1.20s/it]\u001b[A\n",
      "  6%|▌         | 28/500 [00:32<09:36,  1.22s/it]\u001b[A\n",
      "  6%|▌         | 29/500 [00:33<09:28,  1.21s/it]\u001b[A\n",
      "  6%|▌         | 30/500 [00:35<09:32,  1.22s/it]\u001b[A\n",
      "  6%|▌         | 31/500 [00:36<09:33,  1.22s/it]\u001b[A\n",
      "  6%|▋         | 32/500 [00:37<09:48,  1.26s/it]\u001b[A\n",
      "  7%|▋         | 33/500 [00:39<10:04,  1.29s/it]\u001b[A\n",
      "  7%|▋         | 34/500 [00:40<10:04,  1.30s/it]\u001b[A\n",
      "  7%|▋         | 35/500 [00:41<09:56,  1.28s/it]\u001b[A\n",
      "  7%|▋         | 36/500 [00:42<09:30,  1.23s/it]\u001b[A\n",
      "  7%|▋         | 37/500 [00:43<09:21,  1.21s/it]\u001b[A\n",
      "  8%|▊         | 38/500 [00:45<09:31,  1.24s/it]\u001b[A\n",
      "  8%|▊         | 39/500 [00:46<09:43,  1.27s/it]\u001b[A\n",
      "  8%|▊         | 40/500 [00:47<09:45,  1.27s/it]\u001b[A\n",
      "  8%|▊         | 41/500 [00:49<09:43,  1.27s/it]\u001b[A\n",
      "  8%|▊         | 42/500 [00:50<09:18,  1.22s/it]\u001b[A\n",
      "  9%|▊         | 43/500 [00:51<09:01,  1.19s/it]\u001b[A\n",
      "  9%|▉         | 44/500 [00:52<08:47,  1.16s/it]\u001b[A\n",
      "  9%|▉         | 45/500 [00:53<08:41,  1.15s/it]\u001b[A\n",
      "  9%|▉         | 46/500 [00:54<08:35,  1.14s/it]\u001b[A\n",
      "  9%|▉         | 47/500 [00:55<08:32,  1.13s/it]\u001b[A\n",
      " 10%|▉         | 48/500 [00:56<08:28,  1.13s/it]\u001b[A\n",
      " 10%|▉         | 49/500 [00:57<08:28,  1.13s/it]\u001b[A\n",
      " 10%|█         | 50/500 [00:59<08:29,  1.13s/it]\u001b[A\n",
      " 10%|█         | 51/500 [01:00<08:27,  1.13s/it]\u001b[A\n",
      " 10%|█         | 52/500 [01:01<08:25,  1.13s/it]\u001b[A\n",
      " 11%|█         | 53/500 [01:02<08:20,  1.12s/it]\u001b[A\n",
      " 11%|█         | 54/500 [01:03<08:15,  1.11s/it]\u001b[A\n",
      " 11%|█         | 55/500 [01:04<08:11,  1.10s/it]\u001b[A\n",
      " 11%|█         | 56/500 [01:05<08:12,  1.11s/it]\u001b[A\n",
      " 11%|█▏        | 57/500 [01:06<08:07,  1.10s/it]\u001b[A\n",
      " 12%|█▏        | 58/500 [01:08<08:42,  1.18s/it]\u001b[A\n",
      " 12%|█▏        | 59/500 [01:09<09:00,  1.23s/it]\u001b[A\n",
      " 12%|█▏        | 60/500 [01:10<08:54,  1.22s/it]\u001b[A\n",
      " 12%|█▏        | 61/500 [01:11<08:52,  1.21s/it]\u001b[A\n",
      " 12%|█▏        | 62/500 [01:13<08:56,  1.22s/it]\u001b[A\n",
      " 13%|█▎        | 63/500 [01:14<08:40,  1.19s/it]\u001b[A\n",
      " 13%|█▎        | 64/500 [01:15<08:27,  1.16s/it]\u001b[A\n",
      " 13%|█▎        | 65/500 [01:16<08:16,  1.14s/it]\u001b[A\n",
      " 13%|█▎        | 66/500 [01:17<08:09,  1.13s/it]\u001b[A\n",
      " 13%|█▎        | 67/500 [01:18<08:04,  1.12s/it]\u001b[A\n",
      " 14%|█▎        | 68/500 [01:19<08:00,  1.11s/it]\u001b[A\n",
      " 14%|█▍        | 69/500 [01:20<07:56,  1.10s/it]\u001b[A\n",
      " 14%|█▍        | 70/500 [01:22<08:07,  1.13s/it]\u001b[A\n",
      " 14%|█▍        | 71/500 [01:23<07:59,  1.12s/it]\u001b[A\n",
      " 14%|█▍        | 72/500 [01:24<07:58,  1.12s/it]\u001b[A\n",
      " 15%|█▍        | 73/500 [01:25<07:54,  1.11s/it]\u001b[A\n",
      " 15%|█▍        | 74/500 [01:26<07:51,  1.11s/it]\u001b[A\n",
      " 15%|█▌        | 75/500 [01:27<07:49,  1.11s/it]\u001b[A\n",
      " 15%|█▌        | 76/500 [01:28<07:45,  1.10s/it]\u001b[A\n",
      " 15%|█▌        | 77/500 [01:29<07:42,  1.09s/it]\u001b[A\n",
      " 16%|█▌        | 78/500 [01:31<08:21,  1.19s/it]\u001b[A\n",
      " 16%|█▌        | 79/500 [01:32<08:31,  1.21s/it]\u001b[A\n",
      " 16%|█▌        | 80/500 [01:33<08:40,  1.24s/it]\u001b[A\n",
      " 16%|█▌        | 81/500 [01:34<08:41,  1.24s/it]\u001b[A\n",
      " 16%|█▋        | 82/500 [01:36<08:28,  1.22s/it]\u001b[A\n",
      " 17%|█▋        | 83/500 [01:37<08:34,  1.23s/it]\u001b[A\n",
      " 17%|█▋        | 84/500 [01:38<08:28,  1.22s/it]\u001b[A\n",
      " 17%|█▋        | 85/500 [01:39<08:30,  1.23s/it]\u001b[A\n",
      " 17%|█▋        | 86/500 [01:41<08:27,  1.23s/it]\u001b[A\n",
      " 17%|█▋        | 87/500 [01:42<08:30,  1.24s/it]\u001b[A\n",
      " 18%|█▊        | 88/500 [01:43<08:28,  1.23s/it]\u001b[A\n",
      " 18%|█▊        | 89/500 [01:44<08:19,  1.22s/it]\u001b[A\n",
      " 18%|█▊        | 90/500 [01:45<08:22,  1.23s/it]\u001b[A\n",
      " 18%|█▊        | 91/500 [01:47<08:13,  1.21s/it]\u001b[A\n",
      " 18%|█▊        | 92/500 [01:48<07:59,  1.18s/it]\u001b[A\n",
      " 19%|█▊        | 93/500 [01:49<07:51,  1.16s/it]\u001b[A\n",
      " 19%|█▉        | 94/500 [01:50<08:06,  1.20s/it]\u001b[A\n",
      " 19%|█▉        | 95/500 [01:51<07:59,  1.18s/it]\u001b[A\n",
      " 19%|█▉        | 96/500 [01:52<07:47,  1.16s/it]\u001b[A\n",
      " 19%|█▉        | 97/500 [01:53<07:38,  1.14s/it]\u001b[A\n",
      " 20%|█▉        | 98/500 [01:55<07:32,  1.13s/it]\u001b[A\n",
      " 20%|█▉        | 99/500 [01:56<07:59,  1.20s/it]\u001b[A\n",
      " 20%|██        | 100/500 [01:57<08:15,  1.24s/it]\u001b[A\n",
      " 20%|██        | 101/500 [01:58<08:09,  1.23s/it]\u001b[A\n",
      " 20%|██        | 102/500 [02:00<08:14,  1.24s/it]\u001b[A\n",
      " 21%|██        | 103/500 [02:01<08:10,  1.23s/it]\u001b[A\n",
      " 21%|██        | 104/500 [02:02<07:55,  1.20s/it]\u001b[A\n",
      " 21%|██        | 105/500 [02:03<08:02,  1.22s/it]\u001b[A\n",
      " 21%|██        | 106/500 [02:05<08:03,  1.23s/it]\u001b[A\n",
      " 21%|██▏       | 107/500 [02:06<07:57,  1.21s/it]\u001b[A\n",
      " 22%|██▏       | 108/500 [02:07<07:58,  1.22s/it]\u001b[A\n",
      " 22%|██▏       | 109/500 [02:08<08:02,  1.23s/it]\u001b[A\n",
      " 22%|██▏       | 110/500 [02:10<08:01,  1.23s/it]\u001b[A\n",
      " 22%|██▏       | 111/500 [02:11<08:03,  1.24s/it]\u001b[A\n",
      " 22%|██▏       | 112/500 [02:12<08:04,  1.25s/it]\u001b[A\n",
      " 23%|██▎       | 113/500 [02:13<07:59,  1.24s/it]\u001b[A\n",
      " 23%|██▎       | 114/500 [02:14<07:42,  1.20s/it]\u001b[A\n",
      " 23%|██▎       | 115/500 [02:15<07:31,  1.17s/it]\u001b[A\n",
      " 23%|██▎       | 116/500 [02:17<07:21,  1.15s/it]\u001b[A\n",
      " 23%|██▎       | 117/500 [02:18<07:13,  1.13s/it]\u001b[A\n",
      " 24%|██▎       | 118/500 [02:19<07:09,  1.12s/it]\u001b[A\n",
      " 24%|██▍       | 119/500 [02:20<07:06,  1.12s/it]\u001b[A\n",
      " 24%|██▍       | 120/500 [02:21<07:00,  1.11s/it]\u001b[A\n",
      " 24%|██▍       | 121/500 [02:22<06:56,  1.10s/it]\u001b[A\n",
      " 24%|██▍       | 122/500 [02:23<06:54,  1.10s/it]\u001b[A\n",
      " 25%|██▍       | 123/500 [02:24<06:55,  1.10s/it]\u001b[A\n",
      " 25%|██▍       | 124/500 [02:25<06:52,  1.10s/it]\u001b[A\n",
      " 25%|██▌       | 125/500 [02:26<06:50,  1.10s/it]\u001b[A\n",
      " 25%|██▌       | 126/500 [02:28<06:50,  1.10s/it]\u001b[A\n",
      " 25%|██▌       | 127/500 [02:29<06:49,  1.10s/it]\u001b[A\n",
      " 26%|██▌       | 128/500 [02:30<06:49,  1.10s/it]\u001b[A\n",
      " 26%|██▌       | 129/500 [02:31<06:50,  1.11s/it]\u001b[A\n",
      " 26%|██▌       | 130/500 [02:32<06:47,  1.10s/it]\u001b[A\n",
      " 26%|██▌       | 131/500 [02:33<06:44,  1.10s/it]\u001b[A\n",
      " 26%|██▋       | 132/500 [02:34<06:41,  1.09s/it]\u001b[A\n",
      " 27%|██▋       | 133/500 [02:35<06:42,  1.10s/it]\u001b[A\n",
      " 27%|██▋       | 134/500 [02:36<06:42,  1.10s/it]\u001b[A\n",
      " 27%|██▋       | 135/500 [02:37<06:50,  1.13s/it]\u001b[A\n",
      " 27%|██▋       | 136/500 [02:39<07:40,  1.27s/it]\u001b[A\n",
      " 27%|██▋       | 137/500 [02:40<07:42,  1.27s/it]\u001b[A\n",
      " 28%|██▊       | 138/500 [02:42<07:40,  1.27s/it]\u001b[A\n",
      " 28%|██▊       | 139/500 [02:43<07:38,  1.27s/it]\u001b[A\n",
      " 28%|██▊       | 140/500 [02:44<07:30,  1.25s/it]\u001b[A\n",
      " 28%|██▊       | 141/500 [02:45<07:24,  1.24s/it]\u001b[A\n",
      " 28%|██▊       | 142/500 [02:47<07:29,  1.26s/it]\u001b[A\n",
      " 29%|██▊       | 143/500 [02:48<07:34,  1.27s/it]\u001b[A\n",
      " 29%|██▉       | 144/500 [02:49<07:32,  1.27s/it]\u001b[A\n",
      " 29%|██▉       | 145/500 [02:50<07:27,  1.26s/it]\u001b[A\n",
      " 29%|██▉       | 146/500 [02:52<07:35,  1.29s/it]\u001b[A\n",
      " 29%|██▉       | 147/500 [02:53<07:41,  1.31s/it]\u001b[A\n",
      " 30%|██▉       | 148/500 [02:54<07:29,  1.28s/it]\u001b[A\n",
      " 30%|██▉       | 149/500 [02:56<07:19,  1.25s/it]\u001b[A\n",
      " 30%|███       | 150/500 [02:57<07:30,  1.29s/it]\u001b[A\n",
      " 30%|███       | 151/500 [02:58<07:29,  1.29s/it]\u001b[A\n",
      " 30%|███       | 152/500 [02:59<07:27,  1.29s/it]\u001b[A\n",
      " 31%|███       | 153/500 [03:01<07:20,  1.27s/it]\u001b[A\n",
      " 31%|███       | 154/500 [03:02<07:05,  1.23s/it]\u001b[A\n",
      " 31%|███       | 155/500 [03:03<06:50,  1.19s/it]\u001b[A\n",
      " 31%|███       | 156/500 [03:04<06:40,  1.16s/it]\u001b[A\n",
      " 31%|███▏      | 157/500 [03:05<06:31,  1.14s/it]\u001b[A\n",
      " 32%|███▏      | 158/500 [03:06<06:26,  1.13s/it]\u001b[A\n",
      " 32%|███▏      | 159/500 [03:07<06:33,  1.15s/it]\u001b[A\n",
      " 32%|███▏      | 160/500 [03:09<06:49,  1.21s/it]\u001b[A\n",
      " 32%|███▏      | 161/500 [03:10<07:19,  1.30s/it]\u001b[A\n",
      " 32%|███▏      | 162/500 [03:12<07:20,  1.30s/it]\u001b[A\n",
      " 33%|███▎      | 163/500 [03:13<07:19,  1.30s/it]\u001b[A\n",
      " 33%|███▎      | 164/500 [03:14<06:59,  1.25s/it]\u001b[A\n",
      " 33%|███▎      | 165/500 [03:15<06:49,  1.22s/it]\u001b[A\n",
      " 33%|███▎      | 166/500 [03:16<06:48,  1.22s/it]\u001b[A\n",
      " 33%|███▎      | 167/500 [03:18<06:57,  1.26s/it]\u001b[A\n",
      " 34%|███▎      | 168/500 [03:19<07:29,  1.35s/it]\u001b[A\n",
      " 34%|███▍      | 169/500 [03:20<07:08,  1.29s/it]\u001b[A\n",
      " 34%|███▍      | 170/500 [03:22<06:48,  1.24s/it]\u001b[A\n",
      " 34%|███▍      | 171/500 [03:23<06:31,  1.19s/it]\u001b[A\n",
      " 34%|███▍      | 172/500 [03:24<06:22,  1.17s/it]\u001b[A\n",
      " 35%|███▍      | 173/500 [03:25<06:12,  1.14s/it]\u001b[A\n",
      " 35%|███▍      | 174/500 [03:26<06:04,  1.12s/it]\u001b[A\n",
      " 35%|███▌      | 175/500 [03:27<05:58,  1.10s/it]\u001b[A\n",
      " 35%|███▌      | 176/500 [03:28<06:01,  1.12s/it]\u001b[A\n",
      " 35%|███▌      | 177/500 [03:29<06:08,  1.14s/it]\u001b[A\n",
      " 36%|███▌      | 178/500 [03:30<06:03,  1.13s/it]\u001b[A\n",
      " 36%|███▌      | 179/500 [03:32<05:58,  1.12s/it]\u001b[A\n",
      " 36%|███▌      | 180/500 [03:33<06:24,  1.20s/it]\u001b[A\n",
      " 36%|███▌      | 181/500 [03:34<06:21,  1.19s/it]\u001b[A\n",
      " 36%|███▋      | 182/500 [03:35<06:12,  1.17s/it]\u001b[A\n",
      " 37%|███▋      | 183/500 [03:36<06:05,  1.15s/it]\u001b[A\n",
      " 37%|███▋      | 184/500 [03:37<06:01,  1.14s/it]\u001b[A\n",
      " 37%|███▋      | 185/500 [03:39<05:58,  1.14s/it]\u001b[A\n",
      " 37%|███▋      | 186/500 [03:40<05:54,  1.13s/it]\u001b[A\n",
      " 37%|███▋      | 187/500 [03:41<05:48,  1.11s/it]\u001b[A\n",
      " 38%|███▊      | 188/500 [03:42<05:44,  1.11s/it]\u001b[A\n",
      " 38%|███▊      | 189/500 [03:43<05:39,  1.09s/it]\u001b[A\n",
      " 38%|███▊      | 190/500 [03:44<06:23,  1.24s/it]\u001b[A\n",
      " 38%|███▊      | 191/500 [03:46<06:11,  1.20s/it]\u001b[A\n",
      " 38%|███▊      | 192/500 [03:47<06:01,  1.17s/it]\u001b[A\n",
      " 39%|███▊      | 193/500 [03:48<05:53,  1.15s/it]\u001b[A\n",
      " 39%|███▉      | 194/500 [03:49<05:48,  1.14s/it]\u001b[A\n",
      " 39%|███▉      | 195/500 [03:50<05:41,  1.12s/it]\u001b[A\n",
      " 39%|███▉      | 196/500 [03:51<05:36,  1.11s/it]\u001b[A\n",
      " 39%|███▉      | 197/500 [03:52<05:32,  1.10s/it]\u001b[A\n",
      " 40%|███▉      | 198/500 [03:53<05:49,  1.16s/it]\u001b[A\n",
      " 40%|███▉      | 199/500 [03:55<05:49,  1.16s/it]\u001b[A\n",
      " 40%|████      | 200/500 [03:56<05:45,  1.15s/it]\u001b[A\n",
      " 40%|████      | 201/500 [03:57<06:15,  1.26s/it]\u001b[A\n",
      " 40%|████      | 202/500 [03:59<06:21,  1.28s/it]\u001b[A\n",
      " 41%|████      | 203/500 [04:00<06:05,  1.23s/it]\u001b[A\n",
      " 41%|████      | 204/500 [04:01<05:52,  1.19s/it]\u001b[A\n",
      " 41%|████      | 205/500 [04:02<06:04,  1.24s/it]\u001b[A\n",
      " 41%|████      | 206/500 [04:04<06:14,  1.27s/it]\u001b[A\n",
      " 41%|████▏     | 207/500 [04:05<06:13,  1.28s/it]\u001b[A\n",
      " 42%|████▏     | 208/500 [04:06<06:09,  1.26s/it]\u001b[A\n",
      " 42%|████▏     | 209/500 [04:07<06:07,  1.26s/it]\u001b[A\n",
      " 42%|████▏     | 210/500 [04:09<06:09,  1.27s/it]\u001b[A\n",
      " 42%|████▏     | 211/500 [04:10<06:02,  1.25s/it]\u001b[A\n",
      " 42%|████▏     | 212/500 [04:11<05:59,  1.25s/it]\u001b[A\n",
      " 43%|████▎     | 213/500 [04:12<05:56,  1.24s/it]\u001b[A\n",
      " 43%|████▎     | 214/500 [04:13<05:39,  1.19s/it]\u001b[A\n",
      " 43%|████▎     | 215/500 [04:15<05:43,  1.20s/it]\u001b[A\n",
      " 43%|████▎     | 216/500 [04:16<05:35,  1.18s/it]\u001b[A\n",
      " 43%|████▎     | 217/500 [04:17<05:32,  1.17s/it]\u001b[A\n",
      " 44%|████▎     | 218/500 [04:18<05:38,  1.20s/it]\u001b[A\n",
      " 44%|████▍     | 219/500 [04:19<05:41,  1.22s/it]\u001b[A\n",
      " 44%|████▍     | 220/500 [04:21<05:41,  1.22s/it]\u001b[A\n",
      " 44%|████▍     | 221/500 [04:22<05:36,  1.21s/it]\u001b[A\n",
      " 44%|████▍     | 222/500 [04:23<05:41,  1.23s/it]\u001b[A\n",
      " 45%|████▍     | 223/500 [04:24<05:40,  1.23s/it]\u001b[A\n",
      " 45%|████▍     | 224/500 [04:26<05:55,  1.29s/it]\u001b[A\n",
      " 45%|████▌     | 225/500 [04:27<05:41,  1.24s/it]\u001b[A\n",
      " 45%|████▌     | 226/500 [04:28<05:46,  1.26s/it]\u001b[A\n",
      " 45%|████▌     | 227/500 [04:29<05:32,  1.22s/it]\u001b[A\n",
      " 46%|████▌     | 228/500 [04:30<05:30,  1.22s/it]\u001b[A\n",
      " 46%|████▌     | 229/500 [04:32<05:17,  1.17s/it]\u001b[A\n",
      " 46%|████▌     | 230/500 [04:33<05:10,  1.15s/it]\u001b[A\n",
      " 46%|████▌     | 231/500 [04:34<05:01,  1.12s/it]\u001b[A\n",
      " 46%|████▋     | 232/500 [04:35<04:56,  1.11s/it]\u001b[A\n",
      " 47%|████▋     | 233/500 [04:36<04:53,  1.10s/it]\u001b[A\n",
      " 47%|████▋     | 234/500 [04:37<04:51,  1.10s/it]\u001b[A\n",
      " 47%|████▋     | 235/500 [04:38<04:52,  1.11s/it]\u001b[A\n",
      " 47%|████▋     | 236/500 [04:39<04:53,  1.11s/it]\u001b[A\n",
      " 47%|████▋     | 237/500 [04:40<04:50,  1.10s/it]\u001b[A\n",
      " 48%|████▊     | 238/500 [04:41<04:49,  1.11s/it]\u001b[A\n",
      " 48%|████▊     | 239/500 [04:42<04:47,  1.10s/it]\u001b[A\n",
      " 48%|████▊     | 240/500 [04:44<04:46,  1.10s/it]\u001b[A\n",
      " 48%|████▊     | 241/500 [04:45<04:41,  1.09s/it]\u001b[A\n",
      " 48%|████▊     | 242/500 [04:46<04:43,  1.10s/it]\u001b[A\n",
      " 49%|████▊     | 243/500 [04:47<04:59,  1.17s/it]\u001b[A\n",
      " 49%|████▉     | 244/500 [04:49<05:28,  1.28s/it]\u001b[A\n",
      " 49%|████▉     | 245/500 [04:50<05:25,  1.28s/it]\u001b[A\n",
      " 49%|████▉     | 246/500 [04:51<05:26,  1.28s/it]\u001b[A\n",
      " 49%|████▉     | 247/500 [04:52<05:14,  1.24s/it]\u001b[A\n",
      " 50%|████▉     | 248/500 [04:54<05:16,  1.26s/it]\u001b[A\n",
      " 50%|████▉     | 249/500 [04:55<05:15,  1.26s/it]\u001b[A\n",
      " 50%|█████     | 250/500 [04:56<05:12,  1.25s/it]\u001b[A\n",
      " 50%|█████     | 251/500 [04:57<05:00,  1.21s/it]\u001b[A\n",
      " 50%|█████     | 252/500 [04:58<05:01,  1.22s/it]\u001b[A\n",
      " 51%|█████     | 253/500 [05:00<04:56,  1.20s/it]\u001b[A\n",
      " 51%|█████     | 254/500 [05:01<04:49,  1.18s/it]\u001b[A\n",
      " 51%|█████     | 255/500 [05:02<04:53,  1.20s/it]\u001b[A\n",
      " 51%|█████     | 256/500 [05:03<04:51,  1.19s/it]\u001b[A\n",
      " 51%|█████▏    | 257/500 [05:04<04:45,  1.17s/it]\u001b[A\n",
      " 52%|█████▏    | 258/500 [05:06<04:48,  1.19s/it]\u001b[A\n",
      " 52%|█████▏    | 259/500 [05:07<04:48,  1.20s/it]\u001b[A\n",
      " 52%|█████▏    | 260/500 [05:08<04:44,  1.19s/it]\u001b[A\n",
      " 52%|█████▏    | 261/500 [05:09<04:36,  1.15s/it]\u001b[A\n",
      " 52%|█████▏    | 262/500 [05:10<04:29,  1.13s/it]\u001b[A\n",
      " 53%|█████▎    | 263/500 [05:11<04:23,  1.11s/it]\u001b[A\n",
      " 53%|█████▎    | 264/500 [05:12<04:37,  1.18s/it]\u001b[A\n",
      " 53%|█████▎    | 265/500 [05:14<04:42,  1.20s/it]\u001b[A\n",
      " 53%|█████▎    | 266/500 [05:15<04:40,  1.20s/it]\u001b[A\n",
      " 53%|█████▎    | 267/500 [05:16<04:38,  1.20s/it]\u001b[A\n",
      " 54%|█████▎    | 268/500 [05:17<04:36,  1.19s/it]\u001b[A\n",
      " 54%|█████▍    | 269/500 [05:18<04:30,  1.17s/it]\u001b[A\n",
      " 54%|█████▍    | 270/500 [05:20<04:31,  1.18s/it]\u001b[A\n",
      " 54%|█████▍    | 271/500 [05:21<04:28,  1.17s/it]\u001b[A\n",
      " 54%|█████▍    | 272/500 [05:22<04:29,  1.18s/it]\u001b[A\n",
      " 55%|█████▍    | 273/500 [05:23<04:25,  1.17s/it]\u001b[A\n",
      " 55%|█████▍    | 274/500 [05:24<04:24,  1.17s/it]\u001b[A\n",
      " 55%|█████▌    | 275/500 [05:26<04:26,  1.19s/it]\u001b[A\n",
      " 55%|█████▌    | 276/500 [05:27<04:20,  1.16s/it]\u001b[A\n",
      " 55%|█████▌    | 277/500 [05:28<04:19,  1.16s/it]\u001b[A\n",
      " 56%|█████▌    | 278/500 [05:29<04:19,  1.17s/it]\u001b[A\n",
      " 56%|█████▌    | 279/500 [05:30<04:13,  1.15s/it]\u001b[A\n",
      " 56%|█████▌    | 280/500 [05:31<04:16,  1.16s/it]\u001b[A\n",
      " 56%|█████▌    | 281/500 [05:32<04:14,  1.16s/it]\u001b[A\n",
      " 56%|█████▋    | 282/500 [05:34<04:13,  1.16s/it]\u001b[A\n",
      " 57%|█████▋    | 283/500 [05:35<04:10,  1.15s/it]\u001b[A\n",
      " 57%|█████▋    | 284/500 [05:36<04:03,  1.13s/it]\u001b[A\n",
      " 57%|█████▋    | 285/500 [05:37<04:05,  1.14s/it]\u001b[A\n",
      " 57%|█████▋    | 286/500 [05:38<04:08,  1.16s/it]\u001b[A\n",
      " 57%|█████▋    | 287/500 [05:39<04:16,  1.20s/it]\u001b[A\n",
      " 58%|█████▊    | 288/500 [05:41<04:12,  1.19s/it]\u001b[A\n",
      " 58%|█████▊    | 289/500 [05:42<04:02,  1.15s/it]\u001b[A\n",
      " 58%|█████▊    | 290/500 [05:43<03:56,  1.13s/it]\u001b[A\n",
      " 58%|█████▊    | 291/500 [05:44<04:03,  1.16s/it]\u001b[A\n",
      " 58%|█████▊    | 292/500 [05:45<04:05,  1.18s/it]\u001b[A\n",
      " 59%|█████▊    | 293/500 [05:46<04:09,  1.21s/it]\u001b[A\n",
      " 59%|█████▉    | 294/500 [05:48<04:15,  1.24s/it]\u001b[A\n",
      " 59%|█████▉    | 295/500 [05:49<04:10,  1.22s/it]\u001b[A\n",
      " 59%|█████▉    | 296/500 [05:50<04:05,  1.20s/it]\u001b[A\n",
      " 59%|█████▉    | 297/500 [05:51<04:04,  1.20s/it]\u001b[A\n",
      " 60%|█████▉    | 298/500 [05:52<03:54,  1.16s/it]\u001b[A\n",
      " 60%|█████▉    | 299/500 [05:54<03:55,  1.17s/it]\u001b[A\n",
      " 60%|██████    | 300/500 [05:55<03:54,  1.17s/it]\u001b[A\n",
      " 60%|██████    | 301/500 [05:56<03:47,  1.14s/it]\u001b[A\n",
      " 60%|██████    | 302/500 [05:57<03:56,  1.19s/it]\u001b[A\n",
      " 61%|██████    | 303/500 [05:58<03:54,  1.19s/it]\u001b[A\n",
      " 61%|██████    | 304/500 [06:00<04:01,  1.23s/it]\u001b[A\n",
      " 61%|██████    | 305/500 [06:01<03:57,  1.22s/it]\u001b[A\n",
      " 61%|██████    | 306/500 [06:02<03:58,  1.23s/it]\u001b[A\n",
      " 61%|██████▏   | 307/500 [06:03<03:48,  1.18s/it]\u001b[A\n",
      " 62%|██████▏   | 308/500 [06:04<03:49,  1.19s/it]\u001b[A\n",
      " 62%|██████▏   | 309/500 [06:06<03:53,  1.22s/it]\u001b[A\n",
      " 62%|██████▏   | 310/500 [06:07<03:49,  1.21s/it]\u001b[A\n",
      " 62%|██████▏   | 311/500 [06:08<03:48,  1.21s/it]\u001b[A\n",
      " 62%|██████▏   | 312/500 [06:09<03:47,  1.21s/it]\u001b[A\n",
      " 63%|██████▎   | 313/500 [06:11<03:49,  1.23s/it]\u001b[A\n",
      " 63%|██████▎   | 314/500 [06:12<03:45,  1.21s/it]\u001b[A\n",
      " 63%|██████▎   | 315/500 [06:13<03:45,  1.22s/it]\u001b[A\n",
      " 63%|██████▎   | 316/500 [06:14<03:42,  1.21s/it]\u001b[A\n",
      " 63%|██████▎   | 317/500 [06:15<03:39,  1.20s/it]\u001b[A\n",
      " 64%|██████▎   | 318/500 [06:16<03:33,  1.17s/it]\u001b[A\n",
      " 64%|██████▍   | 319/500 [06:18<03:37,  1.20s/it]\u001b[A\n",
      " 64%|██████▍   | 320/500 [06:19<03:39,  1.22s/it]\u001b[A\n",
      " 64%|██████▍   | 321/500 [06:20<03:37,  1.22s/it]\u001b[A\n",
      " 64%|██████▍   | 322/500 [06:21<03:28,  1.17s/it]\u001b[A\n",
      " 65%|██████▍   | 323/500 [06:22<03:21,  1.14s/it]\u001b[A\n",
      " 65%|██████▍   | 324/500 [06:23<03:16,  1.12s/it]\u001b[A\n",
      " 65%|██████▌   | 325/500 [06:25<03:24,  1.17s/it]\u001b[A\n",
      " 65%|██████▌   | 326/500 [06:26<03:18,  1.14s/it]\u001b[A\n",
      " 65%|██████▌   | 327/500 [06:27<03:13,  1.12s/it]\u001b[A\n",
      " 66%|██████▌   | 328/500 [06:28<03:15,  1.13s/it]\u001b[A\n",
      " 66%|██████▌   | 329/500 [06:29<03:18,  1.16s/it]\u001b[A\n",
      " 66%|██████▌   | 330/500 [06:31<03:24,  1.20s/it]\u001b[A\n",
      " 66%|██████▌   | 331/500 [06:32<03:21,  1.19s/it]\u001b[A\n",
      " 66%|██████▋   | 332/500 [06:33<03:21,  1.20s/it]\u001b[A\n",
      " 67%|██████▋   | 333/500 [06:34<03:20,  1.20s/it]\u001b[A\n",
      " 67%|██████▋   | 334/500 [06:35<03:16,  1.19s/it]\u001b[A\n",
      " 67%|██████▋   | 335/500 [06:36<03:16,  1.19s/it]\u001b[A\n",
      " 67%|██████▋   | 336/500 [06:38<03:15,  1.19s/it]\u001b[A\n",
      " 67%|██████▋   | 337/500 [06:39<03:15,  1.20s/it]\u001b[A\n",
      " 68%|██████▊   | 338/500 [06:40<03:16,  1.21s/it]\u001b[A\n",
      " 68%|██████▊   | 339/500 [06:41<03:13,  1.20s/it]\u001b[A\n",
      " 68%|██████▊   | 340/500 [06:42<03:06,  1.17s/it]\u001b[A\n",
      " 68%|██████▊   | 341/500 [06:43<03:01,  1.14s/it]\u001b[A\n",
      " 68%|██████▊   | 342/500 [06:45<02:56,  1.12s/it]\u001b[A\n",
      " 69%|██████▊   | 343/500 [06:46<02:53,  1.10s/it]\u001b[A\n",
      " 69%|██████▉   | 344/500 [06:47<02:50,  1.09s/it]\u001b[A\n",
      " 69%|██████▉   | 345/500 [06:48<02:48,  1.09s/it]\u001b[A\n",
      " 69%|██████▉   | 346/500 [06:49<02:46,  1.08s/it]\u001b[A\n",
      " 69%|██████▉   | 347/500 [06:50<02:45,  1.08s/it]\u001b[A\n",
      " 70%|██████▉   | 348/500 [06:51<02:42,  1.07s/it]\u001b[A\n",
      " 70%|██████▉   | 349/500 [06:52<02:42,  1.08s/it]\u001b[A\n",
      " 70%|███████   | 350/500 [06:53<02:41,  1.08s/it]\u001b[A\n",
      " 70%|███████   | 351/500 [06:54<02:40,  1.08s/it]\u001b[A\n",
      " 70%|███████   | 352/500 [06:55<02:40,  1.09s/it]\u001b[A\n",
      " 71%|███████   | 353/500 [06:56<02:40,  1.10s/it]\u001b[A\n",
      " 71%|███████   | 354/500 [06:58<02:39,  1.09s/it]\u001b[A\n",
      " 71%|███████   | 355/500 [06:59<02:39,  1.10s/it]\u001b[A\n",
      " 71%|███████   | 356/500 [07:00<02:37,  1.10s/it]\u001b[A\n",
      " 71%|███████▏  | 357/500 [07:01<02:36,  1.09s/it]\u001b[A\n",
      " 72%|███████▏  | 358/500 [07:02<02:34,  1.09s/it]\u001b[A\n",
      " 72%|███████▏  | 359/500 [07:03<02:32,  1.08s/it]\u001b[A\n",
      " 72%|███████▏  | 360/500 [07:04<02:38,  1.13s/it]\u001b[A\n",
      " 72%|███████▏  | 361/500 [07:06<02:49,  1.22s/it]\u001b[A\n",
      " 72%|███████▏  | 362/500 [07:07<02:48,  1.22s/it]\u001b[A\n",
      " 73%|███████▎  | 363/500 [07:08<02:46,  1.21s/it]\u001b[A\n",
      " 73%|███████▎  | 364/500 [07:09<02:45,  1.22s/it]\u001b[A\n",
      " 73%|███████▎  | 365/500 [07:11<02:44,  1.22s/it]\u001b[A\n",
      " 73%|███████▎  | 366/500 [07:12<02:43,  1.22s/it]\u001b[A\n",
      " 73%|███████▎  | 367/500 [07:13<02:42,  1.22s/it]\u001b[A\n",
      " 74%|███████▎  | 368/500 [07:14<02:41,  1.23s/it]\u001b[A\n",
      " 74%|███████▍  | 369/500 [07:15<02:41,  1.23s/it]\u001b[A\n",
      " 74%|███████▍  | 370/500 [07:17<02:38,  1.22s/it]\u001b[A\n",
      " 74%|███████▍  | 371/500 [07:18<02:39,  1.24s/it]\u001b[A\n",
      " 74%|███████▍  | 372/500 [07:19<02:36,  1.22s/it]\u001b[A\n",
      " 75%|███████▍  | 373/500 [07:20<02:32,  1.20s/it]\u001b[A\n",
      " 75%|███████▍  | 374/500 [07:21<02:31,  1.20s/it]\u001b[A\n",
      " 75%|███████▌  | 375/500 [07:23<02:29,  1.20s/it]\u001b[A\n",
      " 75%|███████▌  | 376/500 [07:24<02:31,  1.22s/it]\u001b[A\n",
      " 75%|███████▌  | 377/500 [07:25<02:29,  1.22s/it]\u001b[A\n",
      " 76%|███████▌  | 378/500 [07:26<02:31,  1.24s/it]\u001b[A\n",
      " 76%|███████▌  | 379/500 [07:28<02:27,  1.22s/it]\u001b[A\n",
      " 76%|███████▌  | 380/500 [07:29<02:26,  1.22s/it]\u001b[A\n",
      " 76%|███████▌  | 381/500 [07:30<02:22,  1.20s/it]\u001b[A\n",
      " 76%|███████▋  | 382/500 [07:31<02:20,  1.19s/it]\u001b[A\n",
      " 77%|███████▋  | 383/500 [07:32<02:21,  1.21s/it]\u001b[A\n",
      " 77%|███████▋  | 384/500 [07:34<02:20,  1.21s/it]\u001b[A\n",
      " 77%|███████▋  | 385/500 [07:35<02:20,  1.22s/it]\u001b[A\n",
      " 77%|███████▋  | 386/500 [07:36<02:19,  1.22s/it]\u001b[A\n",
      " 77%|███████▋  | 387/500 [07:37<02:18,  1.23s/it]\u001b[A\n",
      " 78%|███████▊  | 388/500 [07:39<02:19,  1.24s/it]\u001b[A\n",
      " 78%|███████▊  | 389/500 [07:40<02:18,  1.25s/it]\u001b[A\n",
      " 78%|███████▊  | 390/500 [07:41<02:17,  1.25s/it]\u001b[A\n",
      " 78%|███████▊  | 391/500 [07:42<02:14,  1.24s/it]\u001b[A\n",
      " 78%|███████▊  | 392/500 [07:44<02:15,  1.26s/it]\u001b[A\n",
      " 79%|███████▊  | 393/500 [07:45<02:14,  1.25s/it]\u001b[A\n",
      " 79%|███████▉  | 394/500 [07:46<02:11,  1.24s/it]\u001b[A\n",
      " 79%|███████▉  | 395/500 [07:47<02:08,  1.23s/it]\u001b[A\n",
      " 79%|███████▉  | 396/500 [07:48<02:07,  1.23s/it]\u001b[A\n",
      " 79%|███████▉  | 397/500 [07:50<02:06,  1.23s/it]\u001b[A\n",
      " 80%|███████▉  | 398/500 [07:51<02:03,  1.21s/it]\u001b[A\n",
      " 80%|███████▉  | 399/500 [07:52<02:02,  1.21s/it]\u001b[A\n",
      " 80%|████████  | 400/500 [07:53<02:01,  1.21s/it]\u001b[A\n",
      " 80%|████████  | 401/500 [07:55<02:01,  1.22s/it]\u001b[A\n",
      " 80%|████████  | 402/500 [07:56<02:00,  1.22s/it]\u001b[A\n",
      " 81%|████████  | 403/500 [07:57<01:59,  1.23s/it]\u001b[A\n",
      " 81%|████████  | 404/500 [07:58<01:59,  1.24s/it]\u001b[A\n",
      " 81%|████████  | 405/500 [08:00<01:58,  1.24s/it]\u001b[A\n",
      " 81%|████████  | 406/500 [08:01<01:57,  1.24s/it]\u001b[A\n",
      " 81%|████████▏ | 407/500 [08:02<01:54,  1.23s/it]\u001b[A\n",
      " 82%|████████▏ | 408/500 [08:03<01:52,  1.22s/it]\u001b[A\n",
      " 82%|████████▏ | 409/500 [08:04<01:51,  1.22s/it]\u001b[A\n",
      " 82%|████████▏ | 410/500 [08:06<01:49,  1.22s/it]\u001b[A\n",
      " 82%|████████▏ | 411/500 [08:07<01:46,  1.19s/it]\u001b[A\n",
      " 82%|████████▏ | 412/500 [08:08<01:42,  1.16s/it]\u001b[A\n",
      " 83%|████████▎ | 413/500 [08:09<01:40,  1.15s/it]\u001b[A\n",
      " 83%|████████▎ | 414/500 [08:10<01:38,  1.14s/it]\u001b[A\n",
      " 83%|████████▎ | 415/500 [08:11<01:39,  1.17s/it]\u001b[A\n",
      " 83%|████████▎ | 416/500 [08:12<01:37,  1.15s/it]\u001b[A\n",
      " 83%|████████▎ | 417/500 [08:14<01:35,  1.15s/it]\u001b[A\n",
      " 84%|████████▎ | 418/500 [08:15<01:36,  1.17s/it]\u001b[A\n",
      " 84%|████████▍ | 419/500 [08:16<01:34,  1.17s/it]\u001b[A\n",
      " 84%|████████▍ | 420/500 [08:17<01:32,  1.16s/it]\u001b[A\n",
      " 84%|████████▍ | 421/500 [08:19<01:39,  1.25s/it]\u001b[A\n",
      " 84%|████████▍ | 422/500 [08:20<01:34,  1.21s/it]\u001b[A\n",
      " 85%|████████▍ | 423/500 [08:21<01:29,  1.17s/it]\u001b[A\n",
      " 85%|████████▍ | 424/500 [08:22<01:30,  1.19s/it]\u001b[A\n",
      " 85%|████████▌ | 425/500 [08:23<01:35,  1.27s/it]\u001b[A\n",
      " 85%|████████▌ | 426/500 [08:25<01:37,  1.31s/it]\u001b[A\n",
      " 85%|████████▌ | 427/500 [08:26<01:37,  1.33s/it]\u001b[A\n",
      " 86%|████████▌ | 428/500 [08:28<01:35,  1.33s/it]\u001b[A\n",
      " 86%|████████▌ | 429/500 [08:29<01:33,  1.32s/it]\u001b[A\n",
      " 86%|████████▌ | 430/500 [08:30<01:31,  1.31s/it]\u001b[A\n",
      " 86%|████████▌ | 431/500 [08:31<01:30,  1.31s/it]\u001b[A\n",
      " 86%|████████▋ | 432/500 [08:33<01:26,  1.28s/it]\u001b[A\n",
      " 87%|████████▋ | 433/500 [08:34<01:24,  1.26s/it]\u001b[A\n",
      " 87%|████████▋ | 434/500 [08:35<01:22,  1.25s/it]\u001b[A\n",
      " 87%|████████▋ | 435/500 [08:36<01:19,  1.22s/it]\u001b[A\n",
      " 87%|████████▋ | 436/500 [08:38<01:24,  1.31s/it]\u001b[A\n",
      " 87%|████████▋ | 437/500 [08:39<01:21,  1.29s/it]\u001b[A\n",
      " 88%|████████▊ | 438/500 [08:40<01:19,  1.28s/it]\u001b[A\n",
      " 88%|████████▊ | 439/500 [08:42<01:17,  1.27s/it]\u001b[A\n",
      " 88%|████████▊ | 440/500 [08:43<01:15,  1.26s/it]\u001b[A\n",
      " 88%|████████▊ | 441/500 [08:44<01:13,  1.25s/it]\u001b[A\n",
      " 88%|████████▊ | 442/500 [08:45<01:10,  1.21s/it]\u001b[A\n",
      " 89%|████████▊ | 443/500 [08:47<01:12,  1.27s/it]\u001b[A\n",
      " 89%|████████▉ | 444/500 [08:48<01:09,  1.23s/it]\u001b[A\n",
      " 89%|████████▉ | 445/500 [08:49<01:05,  1.18s/it]\u001b[A\n",
      " 89%|████████▉ | 446/500 [08:50<01:02,  1.15s/it]\u001b[A\n",
      " 89%|████████▉ | 447/500 [08:51<00:59,  1.13s/it]\u001b[A\n",
      " 90%|████████▉ | 448/500 [08:52<00:57,  1.11s/it]\u001b[A\n",
      " 90%|████████▉ | 449/500 [08:53<00:58,  1.15s/it]\u001b[A\n",
      " 90%|█████████ | 450/500 [08:54<00:59,  1.18s/it]\u001b[A\n",
      " 90%|█████████ | 451/500 [08:56<01:00,  1.24s/it]\u001b[A\n",
      " 90%|█████████ | 452/500 [08:57<00:59,  1.25s/it]\u001b[A\n",
      " 91%|█████████ | 453/500 [08:58<00:58,  1.25s/it]\u001b[A\n",
      " 91%|█████████ | 454/500 [09:00<00:56,  1.23s/it]\u001b[A\n",
      " 91%|█████████ | 455/500 [09:01<00:54,  1.21s/it]\u001b[A\n",
      " 91%|█████████ | 456/500 [09:02<00:53,  1.21s/it]\u001b[A\n",
      " 91%|█████████▏| 457/500 [09:03<00:50,  1.18s/it]\u001b[A\n",
      " 92%|█████████▏| 458/500 [09:04<00:48,  1.15s/it]\u001b[A\n",
      " 92%|█████████▏| 459/500 [09:05<00:46,  1.13s/it]\u001b[A\n",
      " 92%|█████████▏| 460/500 [09:06<00:45,  1.14s/it]\u001b[A\n",
      " 92%|█████████▏| 461/500 [09:08<00:45,  1.17s/it]\u001b[A\n",
      " 92%|█████████▏| 462/500 [09:09<00:44,  1.18s/it]\u001b[A\n",
      " 93%|█████████▎| 463/500 [09:10<00:44,  1.20s/it]\u001b[A\n",
      " 93%|█████████▎| 464/500 [09:11<00:43,  1.20s/it]\u001b[A\n",
      " 93%|█████████▎| 465/500 [09:12<00:40,  1.16s/it]\u001b[A\n",
      " 93%|█████████▎| 466/500 [09:13<00:38,  1.13s/it]\u001b[A\n",
      " 93%|█████████▎| 467/500 [09:14<00:36,  1.12s/it]\u001b[A\n",
      " 94%|█████████▎| 468/500 [09:16<00:35,  1.11s/it]\u001b[A\n",
      " 94%|█████████▍| 469/500 [09:17<00:35,  1.14s/it]\u001b[A\n",
      " 94%|█████████▍| 470/500 [09:18<00:35,  1.17s/it]\u001b[A\n",
      " 94%|█████████▍| 471/500 [09:19<00:33,  1.15s/it]\u001b[A\n",
      " 94%|█████████▍| 472/500 [09:20<00:31,  1.12s/it]\u001b[A\n",
      " 95%|█████████▍| 473/500 [09:21<00:29,  1.11s/it]\u001b[A\n",
      " 95%|█████████▍| 474/500 [09:22<00:28,  1.10s/it]\u001b[A\n",
      " 95%|█████████▌| 475/500 [09:23<00:27,  1.11s/it]\u001b[A\n",
      " 95%|█████████▌| 476/500 [09:25<00:26,  1.10s/it]\u001b[A\n",
      " 95%|█████████▌| 477/500 [09:26<00:26,  1.14s/it]\u001b[A\n",
      " 96%|█████████▌| 478/500 [09:27<00:25,  1.16s/it]\u001b[A\n",
      " 96%|█████████▌| 479/500 [09:28<00:24,  1.16s/it]\u001b[A\n",
      " 96%|█████████▌| 480/500 [09:29<00:23,  1.16s/it]\u001b[A\n",
      " 96%|█████████▌| 481/500 [09:31<00:22,  1.19s/it]\u001b[A\n",
      " 96%|█████████▋| 482/500 [09:32<00:21,  1.20s/it]\u001b[A\n",
      " 97%|█████████▋| 483/500 [09:33<00:20,  1.20s/it]\u001b[A\n",
      " 97%|█████████▋| 484/500 [09:34<00:19,  1.20s/it]\u001b[A\n",
      " 97%|█████████▋| 485/500 [09:35<00:18,  1.20s/it]\u001b[A\n",
      " 97%|█████████▋| 486/500 [09:37<00:16,  1.21s/it]\u001b[A\n",
      " 97%|█████████▋| 487/500 [09:38<00:15,  1.22s/it]\u001b[A\n",
      " 98%|█████████▊| 488/500 [09:39<00:14,  1.21s/it]\u001b[A\n",
      " 98%|█████████▊| 489/500 [09:40<00:13,  1.22s/it]\u001b[A\n",
      " 98%|█████████▊| 490/500 [09:42<00:12,  1.23s/it]\u001b[A\n",
      " 98%|█████████▊| 491/500 [09:43<00:11,  1.23s/it]\u001b[A\n",
      " 98%|█████████▊| 492/500 [09:44<00:09,  1.23s/it]\u001b[A\n",
      " 99%|█████████▊| 493/500 [09:45<00:08,  1.22s/it]\u001b[A\n",
      " 99%|█████████▉| 494/500 [09:46<00:07,  1.20s/it]\u001b[A\n",
      " 99%|█████████▉| 495/500 [09:48<00:06,  1.21s/it]\u001b[A\n",
      " 99%|█████████▉| 496/500 [09:49<00:04,  1.22s/it]\u001b[A\n",
      " 99%|█████████▉| 497/500 [09:50<00:03,  1.25s/it]\u001b[A\n",
      "100%|█████████▉| 498/500 [09:51<00:02,  1.23s/it]\u001b[A\n",
      "100%|█████████▉| 499/500 [09:53<00:01,  1.22s/it]\u001b[A\n",
      "100%|██████████| 500/500 [09:54<00:00,  1.23s/it]\u001b[A\n",
      "\u001b[A"
     ]
    },
    {
     "ename": "TypeError",
     "evalue": "Expected binary or unicode string, got Dimension(2500)",
     "output_type": "error",
     "traceback": [
      "\u001b[0;31m---------------------------------------------------------------------------\u001b[0m",
      "\u001b[0;31mTypeError\u001b[0m                                 Traceback (most recent call last)",
      "\u001b[0;32m<ipython-input-188-d3730c22b4b6>\u001b[0m in \u001b[0;36m<module>\u001b[0;34m()\u001b[0m\n\u001b[1;32m     31\u001b[0m \u001b[0;34m\u001b[0m\u001b[0m\n\u001b[1;32m     32\u001b[0m \u001b[0mrbm\u001b[0m \u001b[0;34m=\u001b[0m \u001b[0mrbm_3way_np\u001b[0m\u001b[0;34m.\u001b[0m\u001b[0mRBM\u001b[0m\u001b[0;34m(\u001b[0m\u001b[0mname\u001b[0m\u001b[0;34m=\u001b[0m\u001b[0;34m'rbm'\u001b[0m\u001b[0;34m,\u001b[0m \u001b[0mv1_size\u001b[0m\u001b[0;34m=\u001b[0m\u001b[0mn_v1\u001b[0m\u001b[0;34m,\u001b[0m \u001b[0mh_size\u001b[0m\u001b[0;34m=\u001b[0m\u001b[0mn_h\u001b[0m\u001b[0;34m,\u001b[0m \u001b[0mv2_size\u001b[0m\u001b[0;34m=\u001b[0m\u001b[0mn_v2\u001b[0m\u001b[0;34m,\u001b[0m \u001b[0mn_samples\u001b[0m\u001b[0;34m=\u001b[0m\u001b[0mn_samples\u001b[0m\u001b[0;34m*\u001b[0m\u001b[0mn_samples\u001b[0m\u001b[0;34m,\u001b[0m \u001b[0mlearning_rate\u001b[0m\u001b[0;34m=\u001b[0m\u001b[0;36m0.1\u001b[0m\u001b[0;34m,\u001b[0m \u001b[0mnum_epochs\u001b[0m\u001b[0;34m=\u001b[0m\u001b[0;36m500\u001b[0m\u001b[0;34m)\u001b[0m\u001b[0;34m\u001b[0m\u001b[0m\n\u001b[0;32m---> 33\u001b[0;31m \u001b[0mrbm\u001b[0m\u001b[0;34m.\u001b[0m\u001b[0mtrain\u001b[0m\u001b[0;34m(\u001b[0m\u001b[0mv1s\u001b[0m\u001b[0;34m,\u001b[0m \u001b[0mv2s\u001b[0m\u001b[0;34m)\u001b[0m\u001b[0;34m\u001b[0m\u001b[0m\n\u001b[0m",
      "\u001b[0;32m/Users/dangoldberg/Desktop/code/tlrl/testing/rbm_3way_np.py\u001b[0m in \u001b[0;36mtrain\u001b[0;34m(self, v1_input, v2_input)\u001b[0m\n\u001b[1;32m    136\u001b[0m                 \u001b[0;31m# pbar.set_description('squared reconstruction error: {}'.format(0))\u001b[0m\u001b[0;34m\u001b[0m\u001b[0;34m\u001b[0m\u001b[0m\n\u001b[1;32m    137\u001b[0m \u001b[0;34m\u001b[0m\u001b[0m\n\u001b[0;32m--> 138\u001b[0;31m             err = self.tf_session.run(self.reconstruction_error(),\n\u001b[0m\u001b[1;32m    139\u001b[0m                                       feed_dict={self.v1_input: v1_input, self.v2_input: v2_input})\n\u001b[1;32m    140\u001b[0m             \u001b[0mprint\u001b[0m\u001b[0;34m(\u001b[0m\u001b[0;34m'cost:{}'\u001b[0m\u001b[0;34m.\u001b[0m\u001b[0mformat\u001b[0m\u001b[0;34m(\u001b[0m\u001b[0merr\u001b[0m\u001b[0;34m)\u001b[0m\u001b[0;34m)\u001b[0m\u001b[0;34m\u001b[0m\u001b[0m\n",
      "\u001b[0;32m/Users/dangoldberg/Desktop/code/tlrl/testing/rbm_3way_np.py\u001b[0m in \u001b[0;36mreconstruction_error\u001b[0;34m(self)\u001b[0m\n\u001b[1;32m    183\u001b[0m     \u001b[0;32mdef\u001b[0m \u001b[0mreconstruction_error\u001b[0m\u001b[0;34m(\u001b[0m\u001b[0mself\u001b[0m\u001b[0;34m)\u001b[0m\u001b[0;34m:\u001b[0m\u001b[0;34m\u001b[0m\u001b[0m\n\u001b[1;32m    184\u001b[0m         \u001b[0;34m\"\"\" The one-step reconstruction cost for both visible layers \"\"\"\u001b[0m\u001b[0;34m\u001b[0m\u001b[0m\n\u001b[0;32m--> 185\u001b[0;31m         \u001b[0mh\u001b[0m \u001b[0;34m=\u001b[0m \u001b[0mself\u001b[0m\u001b[0;34m.\u001b[0m\u001b[0mprop_v1v2_h\u001b[0m\u001b[0;34m(\u001b[0m\u001b[0mself\u001b[0m\u001b[0;34m.\u001b[0m\u001b[0mv1_input\u001b[0m\u001b[0;34m,\u001b[0m \u001b[0mself\u001b[0m\u001b[0;34m.\u001b[0m\u001b[0mv2_input\u001b[0m\u001b[0;34m,\u001b[0m \u001b[0mself\u001b[0m\u001b[0;34m.\u001b[0m\u001b[0mv1_input\u001b[0m\u001b[0;34m.\u001b[0m\u001b[0mshape\u001b[0m\u001b[0;34m[\u001b[0m\u001b[0;36m0\u001b[0m\u001b[0;34m]\u001b[0m\u001b[0;34m)\u001b[0m\u001b[0;34m\u001b[0m\u001b[0m\n\u001b[0m\u001b[1;32m    186\u001b[0m \u001b[0;34m\u001b[0m\u001b[0m\n\u001b[1;32m    187\u001b[0m         \u001b[0mv1_err\u001b[0m \u001b[0;34m=\u001b[0m \u001b[0mtf\u001b[0m\u001b[0;34m.\u001b[0m\u001b[0mcast\u001b[0m\u001b[0;34m(\u001b[0m\u001b[0mself\u001b[0m\u001b[0;34m.\u001b[0m\u001b[0mv1_input\u001b[0m\u001b[0;34m,\u001b[0m \u001b[0mtf\u001b[0m\u001b[0;34m.\u001b[0m\u001b[0mfloat32\u001b[0m\u001b[0;34m)\u001b[0m \u001b[0;34m-\u001b[0m \u001b[0mself\u001b[0m\u001b[0;34m.\u001b[0m\u001b[0msample_v1_given_v2h\u001b[0m\u001b[0;34m(\u001b[0m\u001b[0mself\u001b[0m\u001b[0;34m.\u001b[0m\u001b[0mv2_input\u001b[0m\u001b[0;34m,\u001b[0m \u001b[0mh\u001b[0m\u001b[0;34m)\u001b[0m\u001b[0;34m\u001b[0m\u001b[0m\n",
      "\u001b[0;32m/Users/dangoldberg/Desktop/code/tlrl/testing/rbm_3way_np.py\u001b[0m in \u001b[0;36mprop_v1v2_h\u001b[0;34m(self, v1, v2, v_size)\u001b[0m\n\u001b[1;32m     72\u001b[0m     \u001b[0;32mdef\u001b[0m \u001b[0mprop_v1v2_h\u001b[0m\u001b[0;34m(\u001b[0m\u001b[0mself\u001b[0m\u001b[0;34m,\u001b[0m \u001b[0mv1\u001b[0m\u001b[0;34m,\u001b[0m \u001b[0mv2\u001b[0m\u001b[0;34m,\u001b[0m \u001b[0mv_size\u001b[0m\u001b[0;34m)\u001b[0m\u001b[0;34m:\u001b[0m\u001b[0;34m\u001b[0m\u001b[0m\n\u001b[1;32m     73\u001b[0m         \u001b[0;34m\"\"\" P(h|v1,v2) \"\"\"\u001b[0m\u001b[0;34m\u001b[0m\u001b[0m\n\u001b[0;32m---> 74\u001b[0;31m         \u001b[0;32mreturn\u001b[0m \u001b[0mtf\u001b[0m\u001b[0;34m.\u001b[0m\u001b[0mnn\u001b[0m\u001b[0;34m.\u001b[0m\u001b[0msigmoid\u001b[0m\u001b[0;34m(\u001b[0m\u001b[0mself\u001b[0m\u001b[0;34m.\u001b[0m\u001b[0m_prop_helper\u001b[0m\u001b[0;34m(\u001b[0m\u001b[0mv1\u001b[0m\u001b[0;34m,\u001b[0m \u001b[0mv2\u001b[0m\u001b[0;34m,\u001b[0m \u001b[0;34m[\u001b[0m\u001b[0;36m1\u001b[0m\u001b[0;34m,\u001b[0m \u001b[0;36m2\u001b[0m\u001b[0;34m,\u001b[0m \u001b[0;36m0\u001b[0m\u001b[0;34m]\u001b[0m\u001b[0;34m)\u001b[0m \u001b[0;34m+\u001b[0m \u001b[0mtf\u001b[0m\u001b[0;34m.\u001b[0m\u001b[0mtile\u001b[0m\u001b[0;34m(\u001b[0m\u001b[0mself\u001b[0m\u001b[0;34m.\u001b[0m\u001b[0mh_bias\u001b[0m\u001b[0;34m,\u001b[0m\u001b[0;34m[\u001b[0m\u001b[0mv_size\u001b[0m\u001b[0;34m,\u001b[0m\u001b[0;36m1\u001b[0m\u001b[0;34m]\u001b[0m\u001b[0;34m)\u001b[0m\u001b[0;34m)\u001b[0m\u001b[0;34m\u001b[0m\u001b[0m\n\u001b[0m\u001b[1;32m     75\u001b[0m \u001b[0;34m\u001b[0m\u001b[0m\n\u001b[1;32m     76\u001b[0m     \u001b[0;32mdef\u001b[0m \u001b[0mprop_v1h_v2\u001b[0m\u001b[0;34m(\u001b[0m\u001b[0mself\u001b[0m\u001b[0;34m,\u001b[0m \u001b[0mv1\u001b[0m\u001b[0;34m,\u001b[0m \u001b[0mh\u001b[0m\u001b[0;34m,\u001b[0m \u001b[0mv_size\u001b[0m\u001b[0;34m)\u001b[0m\u001b[0;34m:\u001b[0m\u001b[0;34m\u001b[0m\u001b[0m\n",
      "\u001b[0;32m//anaconda/lib/python3.5/site-packages/tensorflow/python/ops/gen_array_ops.py\u001b[0m in \u001b[0;36mtile\u001b[0;34m(input, multiples, name)\u001b[0m\n\u001b[1;32m   3675\u001b[0m   \"\"\"\n\u001b[1;32m   3676\u001b[0m   result = _op_def_lib.apply_op(\"Tile\", input=input, multiples=multiples,\n\u001b[0;32m-> 3677\u001b[0;31m                                 name=name)\n\u001b[0m\u001b[1;32m   3678\u001b[0m   \u001b[0;32mreturn\u001b[0m \u001b[0mresult\u001b[0m\u001b[0;34m\u001b[0m\u001b[0m\n\u001b[1;32m   3679\u001b[0m \u001b[0;34m\u001b[0m\u001b[0m\n",
      "\u001b[0;32m//anaconda/lib/python3.5/site-packages/tensorflow/python/framework/op_def_library.py\u001b[0m in \u001b[0;36mapply_op\u001b[0;34m(self, op_type_name, name, **keywords)\u001b[0m\n\u001b[1;32m    492\u001b[0m           \u001b[0;32mexcept\u001b[0m \u001b[0mTypeError\u001b[0m \u001b[0;32mas\u001b[0m \u001b[0merr\u001b[0m\u001b[0;34m:\u001b[0m\u001b[0;34m\u001b[0m\u001b[0m\n\u001b[1;32m    493\u001b[0m             \u001b[0;32mif\u001b[0m \u001b[0mdtype\u001b[0m \u001b[0;32mis\u001b[0m \u001b[0;32mNone\u001b[0m\u001b[0;34m:\u001b[0m\u001b[0;34m\u001b[0m\u001b[0m\n\u001b[0;32m--> 494\u001b[0;31m               \u001b[0;32mraise\u001b[0m \u001b[0merr\u001b[0m\u001b[0;34m\u001b[0m\u001b[0m\n\u001b[0m\u001b[1;32m    495\u001b[0m             \u001b[0;32melse\u001b[0m\u001b[0;34m:\u001b[0m\u001b[0;34m\u001b[0m\u001b[0m\n\u001b[1;32m    496\u001b[0m               raise TypeError(\n",
      "\u001b[0;32m//anaconda/lib/python3.5/site-packages/tensorflow/python/framework/op_def_library.py\u001b[0m in \u001b[0;36mapply_op\u001b[0;34m(self, op_type_name, name, **keywords)\u001b[0m\n\u001b[1;32m    489\u001b[0m                 \u001b[0mdtype\u001b[0m\u001b[0;34m=\u001b[0m\u001b[0mdtype\u001b[0m\u001b[0;34m,\u001b[0m\u001b[0;34m\u001b[0m\u001b[0m\n\u001b[1;32m    490\u001b[0m                 \u001b[0mas_ref\u001b[0m\u001b[0;34m=\u001b[0m\u001b[0minput_arg\u001b[0m\u001b[0;34m.\u001b[0m\u001b[0mis_ref\u001b[0m\u001b[0;34m,\u001b[0m\u001b[0;34m\u001b[0m\u001b[0m\n\u001b[0;32m--> 491\u001b[0;31m                 preferred_dtype=default_dtype)\n\u001b[0m\u001b[1;32m    492\u001b[0m           \u001b[0;32mexcept\u001b[0m \u001b[0mTypeError\u001b[0m \u001b[0;32mas\u001b[0m \u001b[0merr\u001b[0m\u001b[0;34m:\u001b[0m\u001b[0;34m\u001b[0m\u001b[0m\n\u001b[1;32m    493\u001b[0m             \u001b[0;32mif\u001b[0m \u001b[0mdtype\u001b[0m \u001b[0;32mis\u001b[0m \u001b[0;32mNone\u001b[0m\u001b[0;34m:\u001b[0m\u001b[0;34m\u001b[0m\u001b[0m\n",
      "\u001b[0;32m//anaconda/lib/python3.5/site-packages/tensorflow/python/framework/ops.py\u001b[0m in \u001b[0;36minternal_convert_to_tensor\u001b[0;34m(value, dtype, name, as_ref, preferred_dtype)\u001b[0m\n\u001b[1;32m    702\u001b[0m \u001b[0;34m\u001b[0m\u001b[0m\n\u001b[1;32m    703\u001b[0m         \u001b[0;32mif\u001b[0m \u001b[0mret\u001b[0m \u001b[0;32mis\u001b[0m \u001b[0;32mNone\u001b[0m\u001b[0;34m:\u001b[0m\u001b[0;34m\u001b[0m\u001b[0m\n\u001b[0;32m--> 704\u001b[0;31m           \u001b[0mret\u001b[0m \u001b[0;34m=\u001b[0m \u001b[0mconversion_func\u001b[0m\u001b[0;34m(\u001b[0m\u001b[0mvalue\u001b[0m\u001b[0;34m,\u001b[0m \u001b[0mdtype\u001b[0m\u001b[0;34m=\u001b[0m\u001b[0mdtype\u001b[0m\u001b[0;34m,\u001b[0m \u001b[0mname\u001b[0m\u001b[0;34m=\u001b[0m\u001b[0mname\u001b[0m\u001b[0;34m,\u001b[0m \u001b[0mas_ref\u001b[0m\u001b[0;34m=\u001b[0m\u001b[0mas_ref\u001b[0m\u001b[0;34m)\u001b[0m\u001b[0;34m\u001b[0m\u001b[0m\n\u001b[0m\u001b[1;32m    705\u001b[0m \u001b[0;34m\u001b[0m\u001b[0m\n\u001b[1;32m    706\u001b[0m         \u001b[0;32mif\u001b[0m \u001b[0mret\u001b[0m \u001b[0;32mis\u001b[0m \u001b[0mNotImplemented\u001b[0m\u001b[0;34m:\u001b[0m\u001b[0;34m\u001b[0m\u001b[0m\n",
      "\u001b[0;32m//anaconda/lib/python3.5/site-packages/tensorflow/python/framework/constant_op.py\u001b[0m in \u001b[0;36m_constant_tensor_conversion_function\u001b[0;34m(v, dtype, name, as_ref)\u001b[0m\n\u001b[1;32m    111\u001b[0m                                          as_ref=False):\n\u001b[1;32m    112\u001b[0m   \u001b[0m_\u001b[0m \u001b[0;34m=\u001b[0m \u001b[0mas_ref\u001b[0m\u001b[0;34m\u001b[0m\u001b[0m\n\u001b[0;32m--> 113\u001b[0;31m   \u001b[0;32mreturn\u001b[0m \u001b[0mconstant\u001b[0m\u001b[0;34m(\u001b[0m\u001b[0mv\u001b[0m\u001b[0;34m,\u001b[0m \u001b[0mdtype\u001b[0m\u001b[0;34m=\u001b[0m\u001b[0mdtype\u001b[0m\u001b[0;34m,\u001b[0m \u001b[0mname\u001b[0m\u001b[0;34m=\u001b[0m\u001b[0mname\u001b[0m\u001b[0;34m)\u001b[0m\u001b[0;34m\u001b[0m\u001b[0m\n\u001b[0m\u001b[1;32m    114\u001b[0m \u001b[0;34m\u001b[0m\u001b[0m\n\u001b[1;32m    115\u001b[0m \u001b[0;34m\u001b[0m\u001b[0m\n",
      "\u001b[0;32m//anaconda/lib/python3.5/site-packages/tensorflow/python/framework/constant_op.py\u001b[0m in \u001b[0;36mconstant\u001b[0;34m(value, dtype, shape, name, verify_shape)\u001b[0m\n\u001b[1;32m    100\u001b[0m   \u001b[0mtensor_value\u001b[0m \u001b[0;34m=\u001b[0m \u001b[0mattr_value_pb2\u001b[0m\u001b[0;34m.\u001b[0m\u001b[0mAttrValue\u001b[0m\u001b[0;34m(\u001b[0m\u001b[0;34m)\u001b[0m\u001b[0;34m\u001b[0m\u001b[0m\n\u001b[1;32m    101\u001b[0m   tensor_value.tensor.CopyFrom(\n\u001b[0;32m--> 102\u001b[0;31m       tensor_util.make_tensor_proto(value, dtype=dtype, shape=shape, verify_shape=verify_shape))\n\u001b[0m\u001b[1;32m    103\u001b[0m   \u001b[0mdtype_value\u001b[0m \u001b[0;34m=\u001b[0m \u001b[0mattr_value_pb2\u001b[0m\u001b[0;34m.\u001b[0m\u001b[0mAttrValue\u001b[0m\u001b[0;34m(\u001b[0m\u001b[0mtype\u001b[0m\u001b[0;34m=\u001b[0m\u001b[0mtensor_value\u001b[0m\u001b[0;34m.\u001b[0m\u001b[0mtensor\u001b[0m\u001b[0;34m.\u001b[0m\u001b[0mdtype\u001b[0m\u001b[0;34m)\u001b[0m\u001b[0;34m\u001b[0m\u001b[0m\n\u001b[1;32m    104\u001b[0m   const_tensor = g.create_op(\n",
      "\u001b[0;32m//anaconda/lib/python3.5/site-packages/tensorflow/python/framework/tensor_util.py\u001b[0m in \u001b[0;36mmake_tensor_proto\u001b[0;34m(values, dtype, shape, verify_shape)\u001b[0m\n\u001b[1;32m    442\u001b[0m   \u001b[0;32mif\u001b[0m \u001b[0mnumpy_dtype\u001b[0m \u001b[0;34m==\u001b[0m \u001b[0mdtypes\u001b[0m\u001b[0;34m.\u001b[0m\u001b[0mstring\u001b[0m \u001b[0;32mand\u001b[0m \u001b[0;32mnot\u001b[0m \u001b[0misinstance\u001b[0m\u001b[0;34m(\u001b[0m\u001b[0mvalues\u001b[0m\u001b[0;34m,\u001b[0m \u001b[0mnp\u001b[0m\u001b[0;34m.\u001b[0m\u001b[0mndarray\u001b[0m\u001b[0;34m)\u001b[0m\u001b[0;34m:\u001b[0m\u001b[0;34m\u001b[0m\u001b[0m\n\u001b[1;32m    443\u001b[0m     \u001b[0mproto_values\u001b[0m \u001b[0;34m=\u001b[0m \u001b[0m_FlattenToStrings\u001b[0m\u001b[0;34m(\u001b[0m\u001b[0mvalues\u001b[0m\u001b[0;34m)\u001b[0m\u001b[0;34m\u001b[0m\u001b[0m\n\u001b[0;32m--> 444\u001b[0;31m     \u001b[0mtensor_proto\u001b[0m\u001b[0;34m.\u001b[0m\u001b[0mstring_val\u001b[0m\u001b[0;34m.\u001b[0m\u001b[0mextend\u001b[0m\u001b[0;34m(\u001b[0m\u001b[0;34m[\u001b[0m\u001b[0mcompat\u001b[0m\u001b[0;34m.\u001b[0m\u001b[0mas_bytes\u001b[0m\u001b[0;34m(\u001b[0m\u001b[0mx\u001b[0m\u001b[0;34m)\u001b[0m \u001b[0;32mfor\u001b[0m \u001b[0mx\u001b[0m \u001b[0;32min\u001b[0m \u001b[0mproto_values\u001b[0m\u001b[0;34m]\u001b[0m\u001b[0;34m)\u001b[0m\u001b[0;34m\u001b[0m\u001b[0m\n\u001b[0m\u001b[1;32m    445\u001b[0m     \u001b[0;32mreturn\u001b[0m \u001b[0mtensor_proto\u001b[0m\u001b[0;34m\u001b[0m\u001b[0m\n\u001b[1;32m    446\u001b[0m \u001b[0;34m\u001b[0m\u001b[0m\n",
      "\u001b[0;32m//anaconda/lib/python3.5/site-packages/tensorflow/python/framework/tensor_util.py\u001b[0m in \u001b[0;36m<listcomp>\u001b[0;34m(.0)\u001b[0m\n\u001b[1;32m    442\u001b[0m   \u001b[0;32mif\u001b[0m \u001b[0mnumpy_dtype\u001b[0m \u001b[0;34m==\u001b[0m \u001b[0mdtypes\u001b[0m\u001b[0;34m.\u001b[0m\u001b[0mstring\u001b[0m \u001b[0;32mand\u001b[0m \u001b[0;32mnot\u001b[0m \u001b[0misinstance\u001b[0m\u001b[0;34m(\u001b[0m\u001b[0mvalues\u001b[0m\u001b[0;34m,\u001b[0m \u001b[0mnp\u001b[0m\u001b[0;34m.\u001b[0m\u001b[0mndarray\u001b[0m\u001b[0;34m)\u001b[0m\u001b[0;34m:\u001b[0m\u001b[0;34m\u001b[0m\u001b[0m\n\u001b[1;32m    443\u001b[0m     \u001b[0mproto_values\u001b[0m \u001b[0;34m=\u001b[0m \u001b[0m_FlattenToStrings\u001b[0m\u001b[0;34m(\u001b[0m\u001b[0mvalues\u001b[0m\u001b[0;34m)\u001b[0m\u001b[0;34m\u001b[0m\u001b[0m\n\u001b[0;32m--> 444\u001b[0;31m     \u001b[0mtensor_proto\u001b[0m\u001b[0;34m.\u001b[0m\u001b[0mstring_val\u001b[0m\u001b[0;34m.\u001b[0m\u001b[0mextend\u001b[0m\u001b[0;34m(\u001b[0m\u001b[0;34m[\u001b[0m\u001b[0mcompat\u001b[0m\u001b[0;34m.\u001b[0m\u001b[0mas_bytes\u001b[0m\u001b[0;34m(\u001b[0m\u001b[0mx\u001b[0m\u001b[0;34m)\u001b[0m \u001b[0;32mfor\u001b[0m \u001b[0mx\u001b[0m \u001b[0;32min\u001b[0m \u001b[0mproto_values\u001b[0m\u001b[0;34m]\u001b[0m\u001b[0;34m)\u001b[0m\u001b[0;34m\u001b[0m\u001b[0m\n\u001b[0m\u001b[1;32m    445\u001b[0m     \u001b[0;32mreturn\u001b[0m \u001b[0mtensor_proto\u001b[0m\u001b[0;34m\u001b[0m\u001b[0m\n\u001b[1;32m    446\u001b[0m \u001b[0;34m\u001b[0m\u001b[0m\n",
      "\u001b[0;32m//anaconda/lib/python3.5/site-packages/tensorflow/python/util/compat.py\u001b[0m in \u001b[0;36mas_bytes\u001b[0;34m(bytes_or_text, encoding)\u001b[0m\n\u001b[1;32m     63\u001b[0m   \u001b[0;32melse\u001b[0m\u001b[0;34m:\u001b[0m\u001b[0;34m\u001b[0m\u001b[0m\n\u001b[1;32m     64\u001b[0m     raise TypeError('Expected binary or unicode string, got %r' %\n\u001b[0;32m---> 65\u001b[0;31m                     (bytes_or_text,))\n\u001b[0m\u001b[1;32m     66\u001b[0m \u001b[0;34m\u001b[0m\u001b[0m\n\u001b[1;32m     67\u001b[0m \u001b[0;34m\u001b[0m\u001b[0m\n",
      "\u001b[0;31mTypeError\u001b[0m: Expected binary or unicode string, got Dimension(2500)"
     ]
    }
   ],
   "source": [
    "import rbm_3way_np\n",
    "from utils.dataprep import cartesian\n",
    "import itertools\n",
    "import numpy as np\n",
    "\n",
    "n_v1 = 10\n",
    "n_v2 = 14\n",
    "n_h = 25\n",
    "n_samples = 50\n",
    "\n",
    "v1s = []\n",
    "v2s = []\n",
    "\n",
    "for n in range(n_samples):\n",
    "    v1 = generate_v(n_v1, np.arange(n_v1), np.ones(n_v1))\n",
    "    #v1 = v1.astype(np.float32)\n",
    "    v1s.append(v1)\n",
    "\n",
    "    v2 = generate_v(n_v2, np.arange(n_v2), np.ones(n_v2))\n",
    "    #v2 = v2.astype(np.float32)\n",
    "    v2s.append(v2)\n",
    "    \n",
    "\n",
    "v1s = np.stack(v1s)\n",
    "v2s = np.stack(v2s)\n",
    "\n",
    "\n",
    "vs = np.array(list(itertools.product(v1s,v2s)))\n",
    "v1s = np.array([list(tup) for tup in vs[:,0]])\n",
    "v2s = np.array([list(tup) for tup in vs[:,1]])\n",
    "\n",
    "rbm = rbm_3way_np.RBM(name='rbm', v1_size=n_v1, h_size=n_h, v2_size=n_v2, n_samples=n_samples*n_samples, learning_rate=0.1, num_epochs=500)\n",
    "rbm.train(v1s, v2s)"
   ]
  },
  {
   "cell_type": "code",
   "execution_count": 185,
   "metadata": {
    "collapsed": false
   },
   "outputs": [
    {
     "data": {
      "text/plain": [
       "(2500, 14)"
      ]
     },
     "execution_count": 185,
     "metadata": {},
     "output_type": "execute_result"
    }
   ],
   "source": []
  },
  {
   "cell_type": "code",
   "execution_count": 177,
   "metadata": {
    "collapsed": false
   },
   "outputs": [
    {
     "data": {
      "text/plain": [
       "(2500, 14)"
      ]
     },
     "execution_count": 177,
     "metadata": {},
     "output_type": "execute_result"
    }
   ],
   "source": [
    "np.array([list(a) for a in d[:,1]]).shape"
   ]
  },
  {
   "cell_type": "code",
   "execution_count": null,
   "metadata": {
    "collapsed": true
   },
   "outputs": [],
   "source": []
  }
 ],
 "metadata": {
  "anaconda-cloud": {},
  "kernelspec": {
   "display_name": "Python [conda root]",
   "language": "python",
   "name": "conda-root-py"
  },
  "language_info": {
   "codemirror_mode": {
    "name": "ipython",
    "version": 3
   },
   "file_extension": ".py",
   "mimetype": "text/x-python",
   "name": "python",
   "nbconvert_exporter": "python",
   "pygments_lexer": "ipython3",
   "version": "3.5.2"
  }
 },
 "nbformat": 4,
 "nbformat_minor": 1
}
