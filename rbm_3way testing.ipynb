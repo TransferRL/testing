{
 "cells": [
  {
   "cell_type": "code",
   "execution_count": 1,
   "metadata": {
    "collapsed": false
   },
   "outputs": [],
   "source": [
    "import rbm_3way as rbm3\n",
    "import numpy as np\n",
    "import tensorflow as tf\n",
    "from tqdm import tqdm\n",
    "from matplotlib import pyplot as plt"
   ]
  },
  {
   "cell_type": "markdown",
   "metadata": {},
   "source": [
    "# Testing _prop_helper() and get_delta_products() against brute force methods"
   ]
  },
  {
   "cell_type": "markdown",
   "metadata": {},
   "source": [
    "### Generate data: v1s, v2s, w"
   ]
  },
  {
   "cell_type": "code",
   "execution_count": 96,
   "metadata": {
    "collapsed": false
   },
   "outputs": [
    {
     "data": {
      "text/plain": [
       "array([  1.81343496,   0.60982805,   2.83924222,   3.94800234,\n",
       "         2.81000185,   4.28106976,   7.2762599 ,   7.56497049,\n",
       "         6.99160671,   9.98215103,  12.36700058,  12.26105881,\n",
       "        14.55602837,  13.7905035 ], dtype=float32)"
      ]
     },
     "execution_count": 96,
     "metadata": {},
     "output_type": "execute_result"
    }
   ],
   "source": [
    "def generate_v(n_v, mu_v, sig_v):\n",
    "    v = np.random.normal(mu_v,sig_v,n_v)\n",
    "    return v\n",
    "\n",
    "\n",
    "n_v1 = 10\n",
    "n_h = 25\n",
    "n_v2 = 14\n",
    "n_samples = 50\n",
    "\n",
    "v1s = []\n",
    "v2s = []\n",
    "\n",
    "for n in range(n_samples):\n",
    "    v1 = generate_v(n_v1,np.arange(n_v1),np.ones(n_v1))\n",
    "    v1 = v1.astype(np.float32)\n",
    "    v1s.append(v1)\n",
    "    \n",
    "    v2 = generate_v(n_v2,np.arange(n_v2),np.ones(n_v2))\n",
    "    v2 = v2.astype(np.float32)\n",
    "    v2s.append(v2)\n",
    "    \n",
    "v1s = np.stack(v1s)\n",
    "v2s = np.stack(v2s)\n",
    "\n",
    "w = np.random.randn(n_v1*n_v2*n_h).reshape(n_v1,n_h,n_v2)\n",
    "\n",
    "v2s[0].T"
   ]
  },
  {
   "cell_type": "code",
   "execution_count": 106,
   "metadata": {
    "collapsed": false
   },
   "outputs": [
    {
     "name": "stdout",
     "output_type": "stream",
     "text": [
      "(10, 25, 14)\n",
      "(50, 10)\n",
      "(50, 14)\n"
     ]
    }
   ],
   "source": [
    "print(w.shape)\n",
    "print(v1s.shape)\n",
    "print(v2s.shape)"
   ]
  },
  {
   "cell_type": "markdown",
   "metadata": {},
   "source": [
    "### _prop_helper()"
   ]
  },
  {
   "cell_type": "code",
   "execution_count": 107,
   "metadata": {
    "collapsed": false
   },
   "outputs": [],
   "source": [
    "def _prop_helper(a, b, perm):\n",
    "    \"\"\" perm specifies matrix orientation\"\"\"\n",
    "    wt = tf.transpose(w,perm=perm)\n",
    "    wtv = tf.einsum('ijk,kl->ijl',wt,tf.transpose(a))\n",
    "    wtvt = tf.transpose(wtv,perm=[2,0,1])\n",
    "    wtvtv = tf.matmul(wtvt,tf.expand_dims(b,axis=-1))\n",
    "    wtvtvs = tf.reduce_sum(wtvtv,axis=-1)\n",
    "    return wtvtvs"
   ]
  },
  {
   "cell_type": "code",
   "execution_count": 108,
   "metadata": {
    "collapsed": false
   },
   "outputs": [],
   "source": [
    "with tf.Session() as s:\n",
    "    res = s.run(_prop_helper(v1s.astype(float), v2s.astype(float), [1, 2, 0]))"
   ]
  },
  {
   "cell_type": "code",
   "execution_count": 109,
   "metadata": {
    "collapsed": false
   },
   "outputs": [
    {
     "data": {
      "text/plain": [
       "(50, 25)"
      ]
     },
     "execution_count": 109,
     "metadata": {},
     "output_type": "execute_result"
    }
   ],
   "source": [
    "res.shape"
   ]
  },
  {
   "cell_type": "code",
   "execution_count": 110,
   "metadata": {
    "collapsed": true
   },
   "outputs": [],
   "source": [
    "def bruteforce_batch(v1,v2,n_h,w):\n",
    "    \n",
    "    assert v1.shape[0] == v2.shape[0]\n",
    "\n",
    "    I = v1.shape[1]\n",
    "    J = n_h\n",
    "    K = v2.shape[1]\n",
    "    S = v1.shape[0]\n",
    "\n",
    "    h = np.zeros(S*n_h).reshape(S,-1)\n",
    "\n",
    "    for s in range(S):\n",
    "        for i in range(I):\n",
    "            for j in range(J):\n",
    "                for k in range(K):\n",
    "                    h[s][j] = h[s][j] + v1[s][i]*v2[s][k]*w[i,j,k]\n",
    "                \n",
    "    return h"
   ]
  },
  {
   "cell_type": "code",
   "execution_count": 111,
   "metadata": {
    "collapsed": false
   },
   "outputs": [
    {
     "data": {
      "text/plain": [
       "(50, 25)"
      ]
     },
     "execution_count": 111,
     "metadata": {},
     "output_type": "execute_result"
    }
   ],
   "source": [
    "h = bruteforce_batch(v1s,v2s,n_h,w)\n",
    "h.shape"
   ]
  },
  {
   "cell_type": "code",
   "execution_count": 112,
   "metadata": {
    "collapsed": false
   },
   "outputs": [
    {
     "data": {
      "text/plain": [
       "array([[  2.16807317e-11,   2.62532460e-11,   1.96194893e-11, ...,\n",
       "          1.01917348e-12,   1.66796581e-10,   3.86202758e-11],\n",
       "       [  5.25824744e-12,   3.01622583e-10,   3.40159917e-11, ...,\n",
       "          1.34789913e-10,   2.89088034e-11,   9.49883306e-11],\n",
       "       [  2.86375531e-12,   2.06009111e-10,   7.78229076e-10, ...,\n",
       "          1.43844926e-10,   3.60614891e-14,   7.66360594e-11],\n",
       "       ..., \n",
       "       [  8.80784309e-11,   1.88007778e-11,   2.33635678e-10, ...,\n",
       "          1.74253981e-10,   3.01229329e-10,   3.97669275e-10],\n",
       "       [  4.91109806e-11,   6.19856911e-11,   5.98837412e-11, ...,\n",
       "          1.27563433e-11,   7.72310311e-13,   3.95310983e-10],\n",
       "       [  8.32379837e-11,   8.39775868e-11,   1.01015943e-10, ...,\n",
       "          3.08506657e-10,   1.94935996e-13,   4.90491751e-12]])"
      ]
     },
     "execution_count": 112,
     "metadata": {},
     "output_type": "execute_result"
    }
   ],
   "source": [
    "(h-res)**2"
   ]
  },
  {
   "cell_type": "markdown",
   "metadata": {},
   "source": [
    "We see that there are some numerical differences between the two methods, but that they agree to significant levels. I'm not investigating why at this point, or which one is more accurate; my first assumption would be that the vectorized operation would be more accurate due to looping over intermediate sums in the brute force method, which would be another advantage of vectorization. Success!"
   ]
  },
  {
   "cell_type": "markdown",
   "metadata": {},
   "source": [
    "### get_delta_products()"
   ]
  },
  {
   "cell_type": "code",
   "execution_count": 113,
   "metadata": {
    "collapsed": true
   },
   "outputs": [],
   "source": [
    "def get_delta_products(v1,h,v2):\n",
    "    v1 = tf.expand_dims(v1,axis=-1)\n",
    "    h = tf.expand_dims(h,axis=-1)\n",
    "    v2 = tf.expand_dims(v2,axis=-1)\n",
    "    prod = tf.matmul(v1,tf.transpose(h, perm=[0,2,1]))\n",
    "    prod = tf.transpose(tf.expand_dims(prod,-1), perm=[1,0,2,3])\n",
    "    prod = tf.einsum('ijkl,jmn->ijkn',prod,tf.transpose(v2,perm=[0,2,1]))\n",
    "    prod = tf.transpose(prod,perm=[1,0,2,3])\n",
    "    return tf.reduce_mean(prod,axis=0)"
   ]
  },
  {
   "cell_type": "code",
   "execution_count": 114,
   "metadata": {
    "collapsed": true
   },
   "outputs": [],
   "source": [
    "with tf.Session() as s:\n",
    "    res = s.run(get_delta_products(v1s.astype(float), h.astype(float), v2s.astype(float)))"
   ]
  },
  {
   "cell_type": "code",
   "execution_count": 115,
   "metadata": {
    "collapsed": false
   },
   "outputs": [
    {
     "name": "stdout",
     "output_type": "stream",
     "text": [
      "(10, 25, 14)\n"
     ]
    }
   ],
   "source": [
    "def bruteforce_delta(v1,v2,h):\n",
    "    \n",
    "    assert v1s.shape[0] == v2s.shape[0] == h.shape[0]\n",
    "    \n",
    "    I = v1.shape[1]\n",
    "    J = h.shape[1]\n",
    "    K = v2.shape[1]\n",
    "    S = v1.shape[0]\n",
    "    \n",
    "    d = np.zeros(S*I*J*K).reshape(S,I,J,K)\n",
    "    \n",
    "    for s in range(S):\n",
    "        for i in range(I):\n",
    "            for j in range(J):\n",
    "                for k in range(K):\n",
    "                    d[s][i][j][k] = v1[s][i]*h[s][j]*v2[s][k]\n",
    "                    \n",
    "    d = np.mean(d,0)\n",
    "    print(d.shape)\n",
    "    \n",
    "    return d\n",
    "    \n",
    "\n",
    "bi = bruteforce_delta(v1s,v2s,h)"
   ]
  },
  {
   "cell_type": "code",
   "execution_count": 116,
   "metadata": {
    "collapsed": false
   },
   "outputs": [
    {
     "data": {
      "text/plain": [
       "array([[[ 0.,  0.,  0., ...,  0.,  0.,  0.],\n",
       "        [ 0.,  0.,  0., ...,  0.,  0.,  0.],\n",
       "        [ 0.,  0.,  0., ...,  0.,  0.,  0.],\n",
       "        ..., \n",
       "        [ 0.,  0.,  0., ...,  0.,  0.,  0.],\n",
       "        [ 0.,  0.,  0., ...,  0.,  0.,  0.],\n",
       "        [ 0.,  0.,  0., ...,  0.,  0.,  0.]],\n",
       "\n",
       "       [[ 0.,  0.,  0., ...,  0.,  0.,  0.],\n",
       "        [ 0.,  0.,  0., ...,  0.,  0.,  0.],\n",
       "        [ 0.,  0.,  0., ...,  0.,  0.,  0.],\n",
       "        ..., \n",
       "        [ 0.,  0.,  0., ...,  0.,  0.,  0.],\n",
       "        [ 0.,  0.,  0., ...,  0.,  0.,  0.],\n",
       "        [ 0.,  0.,  0., ...,  0.,  0.,  0.]],\n",
       "\n",
       "       [[ 0.,  0.,  0., ...,  0.,  0.,  0.],\n",
       "        [ 0.,  0.,  0., ...,  0.,  0.,  0.],\n",
       "        [ 0.,  0.,  0., ...,  0.,  0.,  0.],\n",
       "        ..., \n",
       "        [ 0.,  0.,  0., ...,  0.,  0.,  0.],\n",
       "        [ 0.,  0.,  0., ...,  0.,  0.,  0.],\n",
       "        [ 0.,  0.,  0., ...,  0.,  0.,  0.]],\n",
       "\n",
       "       ..., \n",
       "       [[ 0.,  0.,  0., ...,  0.,  0.,  0.],\n",
       "        [ 0.,  0.,  0., ...,  0.,  0.,  0.],\n",
       "        [ 0.,  0.,  0., ...,  0.,  0.,  0.],\n",
       "        ..., \n",
       "        [ 0.,  0.,  0., ...,  0.,  0.,  0.],\n",
       "        [ 0.,  0.,  0., ...,  0.,  0.,  0.],\n",
       "        [ 0.,  0.,  0., ...,  0.,  0.,  0.]],\n",
       "\n",
       "       [[ 0.,  0.,  0., ...,  0.,  0.,  0.],\n",
       "        [ 0.,  0.,  0., ...,  0.,  0.,  0.],\n",
       "        [ 0.,  0.,  0., ...,  0.,  0.,  0.],\n",
       "        ..., \n",
       "        [ 0.,  0.,  0., ...,  0.,  0.,  0.],\n",
       "        [ 0.,  0.,  0., ...,  0.,  0.,  0.],\n",
       "        [ 0.,  0.,  0., ...,  0.,  0.,  0.]],\n",
       "\n",
       "       [[ 0.,  0.,  0., ...,  0.,  0.,  0.],\n",
       "        [ 0.,  0.,  0., ...,  0.,  0.,  0.],\n",
       "        [ 0.,  0.,  0., ...,  0.,  0.,  0.],\n",
       "        ..., \n",
       "        [ 0.,  0.,  0., ...,  0.,  0.,  0.],\n",
       "        [ 0.,  0.,  0., ...,  0.,  0.,  0.],\n",
       "        [ 0.,  0.,  0., ...,  0.,  0.,  0.]]])"
      ]
     },
     "execution_count": 116,
     "metadata": {},
     "output_type": "execute_result"
    }
   ],
   "source": [
    "(bi - res)**2"
   ]
  },
  {
   "cell_type": "markdown",
   "metadata": {},
   "source": [
    "In this case we see the vectorized op and brute force method agree completely. Success!"
   ]
  },
  {
   "cell_type": "markdown",
   "metadata": {},
   "source": [
    "# Testing the RBM Class"
   ]
  },
  {
   "cell_type": "code",
   "execution_count": 2,
   "metadata": {
    "collapsed": false
   },
   "outputs": [
    {
     "data": {
      "text/plain": [
       "array([  0.39215791,   1.3268801 ,   2.64564061,   3.05266237,\n",
       "         4.17035675,   5.73675299,   3.59056616,   6.08932686,\n",
       "         9.37555599,   9.11422157,  12.39131641,  10.41462803,\n",
       "        12.14718437,  12.8730402 ], dtype=float32)"
      ]
     },
     "execution_count": 2,
     "metadata": {},
     "output_type": "execute_result"
    }
   ],
   "source": [
    "def generate_v(n_v, mu_v, sig_v):\n",
    "    v = np.random.normal(mu_v,sig_v,n_v)\n",
    "    return v\n",
    "\n",
    "\n",
    "n_v1 = 10\n",
    "n_v2 = 14\n",
    "n_h = 25\n",
    "n_samples = 50\n",
    "\n",
    "v1s = []\n",
    "v2s = []\n",
    "\n",
    "for n in range(n_samples):\n",
    "    v1 = generate_v(n_v1,np.arange(n_v1),np.ones(n_v1))\n",
    "    v1 = v1.astype(np.float32)\n",
    "    v1s.append(v1)\n",
    "    \n",
    "    v2 = generate_v(n_v2,np.arange(n_v2),np.ones(n_v2))\n",
    "    v2 = v2.astype(np.float32)\n",
    "    v2s.append(v2)\n",
    "    \n",
    "v1s = np.stack(v1s)\n",
    "v2s = np.stack(v2s)\n",
    "\n",
    "v2s[0].T"
   ]
  },
  {
   "cell_type": "code",
   "execution_count": 5,
   "metadata": {
    "collapsed": false
   },
   "outputs": [
    {
     "name": "stderr",
     "output_type": "stream",
     "text": [
      "\n",
      "  0%|          | 0/100 [00:00<?, ?it/s]\u001b[A\n",
      "squared reconstruction error: 86821933416448.0:   1%|          | 1/100 [00:04<07:51,  4.77s/it]\u001b[A\n",
      "squared reconstruction error: 71219038650368.0: 100%|██████████| 100/100 [11:39<00:00,  9.56s/it]\n"
     ]
    },
    {
     "data": {
      "image/png": "[encoded data removed]",
      "text/plain": [
       "<matplotlib.figure.Figure at 0x1e1423eb8>"
      ]
     },
     "metadata": {},
     "output_type": "display_data"
    }
   ],
   "source": [
    "with tf.Session() as sess:\n",
    "    RBM = rbm3.RBM(name='rbm', v1_size=n_v1, h_size=n_h, v2_size=n_v2)\n",
    "    init = tf.global_variables_initializer()\n",
    "    sess.run(init)\n",
    "    costs = []\n",
    "    pbar = tqdm(range(100))\n",
    "    for i in pbar:\n",
    "        w = sess.run(RBM.pcd_k(v1s, v2s, learning_rate=0.001, k=1, persistant=False))\n",
    "        cost, _, _ = sess.run(RBM.reconstruction_error(v1s,v2s))\n",
    "        costs.append(cost)\n",
    "        pbar.set_description('squared reconstruction error: {}'.format(cost))\n",
    "        if i % 20 == 0:\n",
    "            #plt.hist(w[0],bins=20)\n",
    "            #plt.title(i)\n",
    "            #plt.show()\n",
    "            pass\n",
    "    plt.plot(range(len(costs)),costs)\n",
    "    plt.show()"
   ]
  },
  {
   "cell_type": "code",
   "execution_count": 4,
   "metadata": {
    "collapsed": false
   },
   "outputs": [
    {
     "data": {
      "image/png": "[encoded data removed]",
      "text/plain": [
       "<matplotlib.figure.Figure at 0x17bdc86d8>"
      ]
     },
     "metadata": {},
     "output_type": "display_data"
    }
   ],
   "source": [
    "plt.plot(range(len(costs)),costs)\n",
    "plt.show()"
   ]
  },
  {
   "cell_type": "code",
   "execution_count": null,
   "metadata": {
    "collapsed": true
   },
   "outputs": [],
   "source": []
  }
 ],
 "metadata": {
  "anaconda-cloud": {},
  "kernelspec": {
   "display_name": "Python [conda root]",
   "language": "python",
   "name": "conda-root-py"
  },
  "language_info": {
   "codemirror_mode": {
    "name": "ipython",
    "version": 3
   },
   "file_extension": ".py",
   "mimetype": "text/x-python",
   "name": "python",
   "nbconvert_exporter": "python",
   "pygments_lexer": "ipython3",
   "version": "3.5.2"
  }
 },
 "nbformat": 4,
 "nbformat_minor": 1
}
